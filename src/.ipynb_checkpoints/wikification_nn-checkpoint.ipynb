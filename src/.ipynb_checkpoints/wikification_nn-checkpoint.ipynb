{
 "cells": [
  {
   "cell_type": "code",
   "execution_count": 26,
   "metadata": {},
   "outputs": [],
   "source": [
    "import bz2\n",
    "import nltk\n",
    "import numpy as np\n",
    "import json\n",
    "#nltk.download('punkt')\n",
    "\n",
    "train_file = bz2.BZ2File('../input_data/train.json.bz2')\n",
    "test_file = bz2.BZ2File('../input_data/test.json.bz2')"
   ]
  },
  {
   "cell_type": "code",
   "execution_count": 29,
   "metadata": {},
   "outputs": [],
   "source": [
    "train_file = json.load(train_file)\n",
    "test_file = json.load(test_file)"
   ]
  },
  {
   "cell_type": "code",
   "execution_count": 39,
   "metadata": {},
   "outputs": [
    {
     "name": "stdout",
     "output_type": "stream",
     "text": [
      "['      Sir Roger Penrose  is an English ']\n"
     ]
    }
   ],
   "source": [
    "train_file[1]\n",
    "for sentence in train_file:\n",
    "    #print(nltk.word_tokenize(sentence.keys()))\n",
    "    print(list(sentence.keys()[0]))\n",
    "    break"
   ]
  }
 ],
 "metadata": {
  "kernelspec": {
   "display_name": "Python 3",
   "language": "python",
   "name": "python3"
  },
  "language_info": {
   "codemirror_mode": {
    "name": "ipython",
    "version": 3
   },
   "file_extension": ".py",
   "mimetype": "text/x-python",
   "name": "python",
   "nbconvert_exporter": "python",
   "pygments_lexer": "ipython3",
   "version": "3.7.5"
  }
 },
 "nbformat": 4,
 "nbformat_minor": 4
}
