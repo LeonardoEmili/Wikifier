{
 "cells": [
  {
   "cell_type": "code",
   "execution_count": 1,
   "metadata": {},
   "outputs": [
    {
     "name": "stderr",
     "output_type": "stream",
     "text": [
      "[nltk_data] Downloading package punkt to /home/leo/nltk_data...\n",
      "[nltk_data]   Package punkt is already up-to-date!\n"
     ]
    },
    {
     "data": {
      "text/plain": [
       "True"
      ]
     },
     "execution_count": 1,
     "metadata": {},
     "output_type": "execute_result"
    }
   ],
   "source": [
    "import bz2\n",
    "import nltk\n",
    "import numpy as np\n",
    "import json\n",
    "from collections import Counter\n",
    "nltk.download('punkt')"
   ]
  },
  {
   "cell_type": "code",
   "execution_count": 124,
   "metadata": {},
   "outputs": [
    {
     "name": "stdout",
     "output_type": "stream",
     "text": [
      "615243\n",
      "126152\n"
     ]
    }
   ],
   "source": [
    "train_file = bz2.BZ2File('../input_data/train.json.bz2')\n",
    "test_file = bz2.BZ2File('../input_data/test.json.bz2')\n",
    "train_file = json.load(train_file)\n",
    "test_file = json.load(test_file)\n",
    "print(len(train_file))\n",
    "print(len(test_file))"
   ]
  },
  {
   "cell_type": "code",
   "execution_count": 125,
   "metadata": {},
   "outputs": [],
   "source": [
    "# Preprocess data ...\n",
    "\n",
    "link_treshold = 3\n",
    "valid_links = Counter([next(iter(sentence.values())) for sentence in train_file if next(iter(sentence.values())) is not None])\n",
    "valid_links = set([link for link,frequence in valid_links.items() if frequence >= link_treshold])\n",
    "\n",
    "train_links = []\n",
    "for i, sentence in enumerate(train_file):\n",
    "    sentence, link = next(iter(sentence.items()))\n",
    "    train_file[i] = sentence.lower().strip()\n",
    "    if link in valid_links:\n",
    "        train_file[i] = '_' + train_file[i] + '_'\n",
    "        train_links.append(link)\n",
    "        \n",
    "test_links = []\n",
    "for i, sentence in enumerate(test_file):\n",
    "    sentence, link = next(iter(sentence.items()))\n",
    "    test_file[i] = sentence.lower().strip()\n",
    "    if link in valid_links:\n",
    "        test_file[i] = '_' + test_file[i] + '_'\n",
    "        test_links.append(link)\n",
    "\n",
    "train_file = [nltk.word_tokenize(sentence) for sentence in nltk.sent_tokenize(\" \".join(train_file))]\n",
    "test_file = [nltk.word_tokenize(sentence) for sentence in nltk.sent_tokenize(\" \".join(test_file))]\n",
    "train_sentences = [[word.replace('_','') for word in sentence] for sentence in train_file]\n",
    "test_sentences = [[word.replace('_','') for word in sentence] for sentence in test_file]\n",
    "\n",
    "vocabulary = Counter([word for sentence in train_sentences for word in sentence for char in word])\n",
    "vocabulary = ['_PAD','_UNK'] + sorted(vocabulary, key=vocabulary.get, reverse=True)\n",
    "word2idx = {w:i for i,w in enumerate(vocabulary)}\n",
    "idx2word = {i:w for i,w in enumerate(vocabulary)}"
   ]
  },
  {
   "cell_type": "code",
   "execution_count": 121,
   "metadata": {},
   "outputs": [
    {
     "name": "stdout",
     "output_type": "stream",
     "text": [
      "['_PAD', '_UNK', 'the', 'and', 'of', ',', 'in', '.', 'to', 'american', 'that', 'with', 'was', 'for', 'a', 'is', 'from', 'as', 'which', 'his']\n"
     ]
    }
   ],
   "source": [
    "# Encode words as integers ...\n",
    "\n",
    "for i, sentence in enumerate(train_sentences):\n",
    "    train_sentences[i] = [word2idx[word] if word in word2idx else 1 for word in sentence]"
   ]
  },
  {
   "cell_type": "code",
   "execution_count": null,
   "metadata": {},
   "outputs": [],
   "source": []
  }
 ],
 "metadata": {
  "kernelspec": {
   "display_name": "Python 3",
   "language": "python",
   "name": "python3"
  },
  "language_info": {
   "codemirror_mode": {
    "name": "ipython",
    "version": 3
   },
   "file_extension": ".py",
   "mimetype": "text/x-python",
   "name": "python",
   "nbconvert_exporter": "python",
   "pygments_lexer": "ipython3",
   "version": "3.7.5"
  }
 },
 "nbformat": 4,
 "nbformat_minor": 4
}
