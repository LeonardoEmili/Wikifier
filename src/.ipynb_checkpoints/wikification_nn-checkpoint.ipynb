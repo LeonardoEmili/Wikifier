{
 "cells": [
  {
   "cell_type": "code",
   "execution_count": 1,
   "metadata": {},
   "outputs": [
    {
     "name": "stderr",
     "output_type": "stream",
     "text": [
      "[nltk_data] Downloading package punkt to /home/leo/nltk_data...\n",
      "[nltk_data]   Package punkt is already up-to-date!\n"
     ]
    },
    {
     "data": {
      "text/plain": [
       "True"
      ]
     },
     "execution_count": 1,
     "metadata": {},
     "output_type": "execute_result"
    }
   ],
   "source": [
    "import bz2\n",
    "import nltk\n",
    "import numpy as np\n",
    "import json\n",
    "from collections import Counter\n",
    "nltk.download('punkt')"
   ]
  },
  {
   "cell_type": "code",
   "execution_count": 141,
   "metadata": {},
   "outputs": [
    {
     "name": "stdout",
     "output_type": "stream",
     "text": [
      "612271\n",
      "129619\n"
     ]
    }
   ],
   "source": [
    "train_file = bz2.BZ2File('../input_data/train.json.bz2')\n",
    "test_file = bz2.BZ2File('../input_data/test.json.bz2')\n",
    "train_file = json.load(train_file)\n",
    "test_file = json.load(test_file)\n",
    "print(len(train_file))\n",
    "print(len(test_file))"
   ]
  },
  {
   "cell_type": "code",
   "execution_count": 142,
   "metadata": {},
   "outputs": [],
   "source": [
    "def process_input_file(input_file, valid_links, link_delim):\n",
    "    links = []\n",
    "    for i, line in enumerate(input_file):\n",
    "        sentence, link = next(iter(line.items()))\n",
    "        input_file[i] = sentence.lower().strip()\n",
    "        if link in valid_links:\n",
    "            input_file[i] = link_delim + input_file[i].replace(' ', link_delim) + link_delim\n",
    "            links.append(link)\n",
    "    return input_file, links\n",
    "\n",
    "def encode_labels(sentences_with_link_markup, links, link2idx, link_delim):\n",
    "    encoded_labels = []\n",
    "    output_sentences = []\n",
    "    link_index = 0;\n",
    "    for sentence in sentences_with_link_markup:\n",
    "        encoded_label = []\n",
    "        output_sentence = []\n",
    "        for word in sentence:\n",
    "            if (word[0] == link_delim and word[-1] == link_delim):\n",
    "                sub_links = filter(None, word.split(link_delim))\n",
    "                try:\n",
    "                    for sub_link in sub_links:\n",
    "                        encoded_label.append(link2idx[links[link_index]])\n",
    "                        output_sentence.append(sub_link)\n",
    "                    link_index += 1\n",
    "                except:\n",
    "                    print(word)\n",
    "                    print(sentence)\n",
    "            else:\n",
    "                encoded_label.append(0)\n",
    "                output_sentence.append(word)\n",
    "        encoded_labels.append(encoded_label)\n",
    "        output_sentences.append(output_sentence)\n",
    "    return encoded_labels, output_sentences"
   ]
  },
  {
   "cell_type": "code",
   "execution_count": null,
   "metadata": {},
   "outputs": [],
   "source": [
    "# Preprocess data ...\n",
    "\n",
    "LINK_DELIM = '_'\n",
    "link_treshold = 1\n",
    "valid_links = Counter([next(iter(sentence.values())) for sentence in train_file if next(iter(sentence.values())) is not None])\n",
    "valid_links = set([link for link,frequence in valid_links.items() if frequence >= link_treshold])\n",
    "\n",
    "train_file, train_links = process_input_file(train_file, valid_links, LINK_DELIM)\n",
    "#print(len(_x), len(train_links))\n",
    "#985611 338198\n",
    "test_file, test_links = process_input_file(test_file, valid_links, LINK_DELIM)\n",
    "\n",
    "train_file = [nltk.word_tokenize(sentence) for sentence in nltk.sent_tokenize(\" \".join(train_file))]\n",
    "test_file = [nltk.word_tokenize(sentence) for sentence in nltk.sent_tokenize(\" \".join(test_file))]\n",
    "\n",
    "output = [\"_TEXT\"] + train_links\n",
    "link2idx = {l:i for i,l in enumerate(output)}\n",
    "idx2link = {i:l for i,l in enumerate(output)}\n",
    "\n",
    "train_encoded_labels, train_sentences = encode_labels(train_file, train_links, link2idx, LINK_DELIM)\n",
    "test_encoded_labels, test_sentences = encode_labels(test_file, test_links, link2idx, LINK_DELIM)\n",
    "\n",
    "#train_sentences = [[word.replace(LINK_DELIM,'') for word in sentence] for sentence in train_file]\n",
    "#test_sentences = [[word.replace(LINK_DELIM,'') for word in sentence] for sentence in test_file]\n",
    "\n",
    "vocabulary = Counter([word for sentence in train_sentences for word in sentence for char in word])\n",
    "vocabulary = ['_PAD','_UNK'] + sorted(vocabulary, key=vocabulary.get, reverse=True)\n",
    "\n",
    "word2idx = {w:i for i,w in enumerate(vocabulary)}\n",
    "idx2word = {i:w for i,w in enumerate(vocabulary)} # probably vocabulary array is enough\n",
    "\n",
    "print(len(train_links))\n"
   ]
  },
  {
   "cell_type": "code",
   "execution_count": 147,
   "metadata": {},
   "outputs": [
    {
     "name": "stdout",
     "output_type": "stream",
     "text": [
      "['alessandro', 'giuseppe', 'antonio', 'anastasio', 'volta', 'was', 'an', 'italian', 'physicist', ',', 'chemist', ',', 'and', 'pioneer', 'of', 'electricity', 'and', 'power', 'who', 'is', 'credited', 'as', 'the', 'inventor', 'of', 'the', 'electric', 'battery', 'and', 'the', 'discoverer', 'of', 'methane', '.']\n",
      "['alessandro', 'giuseppe', 'antonio', 'anastasio', 'volta', 'was', 'an', 'italian', '_physicist_', ',', '_chemist_', ',', 'and', 'pioneer', 'of', '_electricity_', 'and', '_power_', 'who', 'is', 'credited', 'as', 'the', 'inventor', 'of', 'the', '_electric_battery_', 'and', 'the', 'discoverer', 'of', '_methane_', '.']\n",
      "[0, 0, 0, 0, 0, 0, 0, 0, 300483, 0, 259389, 0, 0, 0, 0, 330050, 0, 237586, 0, 0, 0, 0, 0, 0, 0, 0, 209894, 209894, 0, 0, 0, 0, 328457, 0]\n",
      "1932\n",
      "['_physicist_', '_chemist_', '_electricity_', '_power_', '_electric_battery_', '_methane_', '_voltaic_pile_', '_royal_society_', '_electrochemistry_', '_napoleon_bonaparte_', '_institute_of_france_', '_university_of_pavia_', '_si_', '_electric_potential_', '_volt_', '_como_', '_italy_', '_electrophorus_', '_static_electricity_', '_johan_wilcke_', '_h._b._de_saussure_', '_chemistry_', '_methane_', '_benjamin_franklin_', '_lake_maggiore_', '_ignition_', '_spark_', '_capacitance_', '_volt_', '_university_of_pavia_', '_luigi_galvani_', '_electric_current_', '_electrochemical_series_', '_electromotive_force_', '_galvanic_cell_', '_electrodes_', '_voltaic_pile_', '_electric_battery_', '_zinc_', '_copper_', '_brine_', '_william_nicholson_', '_tiberius_cavallo_', '_abraham_bennet_', '_zinc_', '_copper_', '_electrolyte_', '_sulfuric_acid_', '_brine_', '_electrochemical_series_']\n",
      "338411 338198\n",
      "--------------\n",
      "338411\n",
      "--------------\n"
     ]
    }
   ],
   "source": [
    "print(train_sentences[0])\n",
    "print(train_file[0])\n",
    "print(train_encoded_labels[0])\n",
    "print(idx2link[300482])\n",
    "_x = [word for sentence in train_file for word in sentence if word[0]==word[-1]=='_']\n",
    "print(_x[:50])\n",
    "print(len(_x), len(train_links))\n",
    "print(\"--------------\")\n",
    "print(len(_x))\n",
    "print(\"--------------\")\n",
    "\n",
    "idx2link = {i:l for i,l in enumerate(output)}\n",
    "\n",
    "\n",
    "\n",
    "        \n",
    "train_sentences_len = [len(sentence) for sentence in train_sentences]\n",
    "max_train_sentences_len = max(train_sentences_len)\n",
    "\n",
    "test_sentences_len = [len(sentence) for sentence in test_sentences]\n",
    "max_test_sentences_len = max(test_sentences_len)\n"
   ]
  },
  {
   "cell_type": "code",
   "execution_count": null,
   "metadata": {},
   "outputs": [],
   "source": [
    "# Encode words as integers ...\n",
    "\n",
    "for i, sentence in enumerate(train_sentences):\n",
    "    train_sentences[i] = [word2idx[word] if word in word2idx else 1 for word in sentence]\n",
    "    \n",
    "for i, sentence in enumerate(test_sentences):\n",
    "    test_sentences[i] = [word2idx[word] if word in word2idx else 0 for word in sentence]"
   ]
  },
  {
   "cell_type": "code",
   "execution_count": null,
   "metadata": {},
   "outputs": [],
   "source": [
    "print([idx2word[x] for x in train_sentences[0]])\n",
    "print([x for x in train_file[0]])"
   ]
  }
 ],
 "metadata": {
  "kernelspec": {
   "display_name": "Python 3",
   "language": "python",
   "name": "python3"
  },
  "language_info": {
   "codemirror_mode": {
    "name": "ipython",
    "version": 3
   },
   "file_extension": ".py",
   "mimetype": "text/x-python",
   "name": "python",
   "nbconvert_exporter": "python",
   "pygments_lexer": "ipython3",
   "version": "3.7.5"
  }
 },
 "nbformat": 4,
 "nbformat_minor": 4
}
