{
 "cells": [
  {
   "cell_type": "code",
   "execution_count": 1,
   "metadata": {},
   "outputs": [
    {
     "name": "stderr",
     "output_type": "stream",
     "text": [
      "[nltk_data] Downloading package punkt to /home/leo/nltk_data...\n",
      "[nltk_data]   Package punkt is already up-to-date!\n"
     ]
    },
    {
     "data": {
      "text/plain": [
       "True"
      ]
     },
     "execution_count": 1,
     "metadata": {},
     "output_type": "execute_result"
    }
   ],
   "source": [
    "import bz2\n",
    "import nltk\n",
    "import numpy as np\n",
    "import json\n",
    "from collections import Counter\n",
    "nltk.download('punkt')"
   ]
  },
  {
   "cell_type": "code",
   "execution_count": 38,
   "metadata": {},
   "outputs": [
    {
     "name": "stdout",
     "output_type": "stream",
     "text": [
      "615243\n",
      "126152\n"
     ]
    }
   ],
   "source": [
    "train_file = bz2.BZ2File('../input_data/train.json.bz2')\n",
    "test_file = bz2.BZ2File('../input_data/test.json.bz2')\n",
    "train_file = json.load(train_file)\n",
    "test_file = json.load(test_file)\n",
    "print(len(train_file))\n",
    "print(len(test_file))"
   ]
  },
  {
   "cell_type": "code",
   "execution_count": 34,
   "metadata": {},
   "outputs": [],
   "source": [
    "def process_input_file(input_file, valid_links, link_delim):\n",
    "    links = []\n",
    "    for i, sentence in enumerate(input_file):\n",
    "        sentence, link = next(iter(sentence.items()))\n",
    "        input_file[i] = sentence.lower().strip()\n",
    "        if link in valid_links:\n",
    "            input_file[i] = link_delim + input_file[i] + link_delim\n",
    "            links.append(link)\n",
    "    return input_file, links\n",
    "\n",
    "def encode_labels(sentences_with_link_markup, links, link2idx, link_delim):\n",
    "    encoded_labels = []\n",
    "    link_index = 0;\n",
    "    for sentence in sentences_with_link_markup:\n",
    "        encoded_label = []\n",
    "        for word in sentence:\n",
    "            if (word[0] == link_delim and word[-1] == link_delim):\n",
    "                encoded_label.append(link2idx[links[link_index]])\n",
    "                link_index += 1\n",
    "            else:\n",
    "                encoded_label.append(0)\n",
    "        encoded_labels.append(encoded_label)\n",
    "    return encoded_labels"
   ]
  },
  {
   "cell_type": "code",
   "execution_count": 39,
   "metadata": {},
   "outputs": [],
   "source": [
    "# Preprocess data ...\n",
    "\n",
    "LINK_DELIM = '_'\n",
    "link_treshold = 2\n",
    "valid_links = Counter([next(iter(sentence.values())) for sentence in train_file if next(iter(sentence.values())) is not None])\n",
    "valid_links = set([link for link,frequence in valid_links.items() if frequence >= link_treshold])\n",
    "\n",
    "train_file, train_links = process_input_file(train_file, valid_links, LINK_DELIM)\n",
    "test_file, test_links = process_input_file(test_file, valid_links, LINK_DELIM)\n",
    "\n",
    "train_file = [nltk.word_tokenize(sentence) for sentence in nltk.sent_tokenize(\" \".join(train_file))]\n",
    "test_file = [nltk.word_tokenize(sentence) for sentence in nltk.sent_tokenize(\" \".join(test_file))]\n",
    "train_sentences = [[word.replace(LINK_DELIM,'') for word in sentence] for sentence in train_file]\n",
    "test_sentences = [[word.replace(LINK_DELIM,'') for word in sentence] for sentence in test_file]\n",
    "\n",
    "vocabulary = Counter([word for sentence in train_sentences for word in sentence for char in word])\n",
    "vocabulary = ['_PAD','_UNK'] + sorted(vocabulary, key=vocabulary.get, reverse=True)\n",
    "output = [\"_TEXT\"] + train_links\n",
    "\n",
    "word2idx = {w:i for i,w in enumerate(vocabulary)}\n",
    "idx2word = {i:w for i,w in enumerate(vocabulary)} # probably vocabulary array is enough\n",
    "link2idx = {t:i for i,t in enumerate(output)}\n",
    "\n",
    "train_encoded_labels = encode_labels(train_file, train_links, link2idx, LINK_DELIM)\n",
    "test_encoded_labels = encode_labels(test_file, test_links, link2idx, LINK_DELIM)\n"
   ]
  },
  {
   "cell_type": "code",
   "execution_count": 41,
   "metadata": {},
   "outputs": [
    {
     "name": "stdout",
     "output_type": "stream",
     "text": [
      "[0, 0, 0, 0, 0, 0, 0, 0, 0, 0, 202144, 0, 0, 0, 0, 0, 0]\n",
      "17\n",
      "['a', 'polyhedron', 'is', 'a', '3-dimensional', 'example', 'of', 'the', 'more', 'general', '_polytope_', 'in', 'any', 'number', 'of', 'dimensions', '.']\n",
      "['a', 'polyhedron', 'is', 'a', '3-dimensional', 'example', 'of', 'the', 'more', 'general', 'polytope', 'in', 'any', 'number', 'of', 'dimensions', '.']\n",
      "17\n"
     ]
    }
   ],
   "source": [
    "y=10\n",
    "print(train_encoded_labels[y])\n",
    "print(len(train_encoded_labels[y]))\n",
    "print(train_file[y])\n",
    "print(train_sentences[y])\n",
    "print(len(train_sentences[y]))\n",
    "\n",
    "        \n",
    "train_sentences_len = [len(sentence) for sentence in train_sentences]\n",
    "max_train_sentences_len = max(train_sentences_len)\n",
    "\n",
    "test_sentences_len = [len(sentence) for sentence in test_sentences]\n",
    "max_test_sentences_len = max(test_sentences_len)\n"
   ]
  },
  {
   "cell_type": "code",
   "execution_count": null,
   "metadata": {},
   "outputs": [],
   "source": [
    "# Encode words as integers ...\n",
    "\n",
    "for i, sentence in enumerate(train_sentences):\n",
    "    train_sentences[i] = [word2idx[word] if word in word2idx else 1 for word in sentence]\n",
    "    \n",
    "for i, sentence in enumerate(test_sentences):\n",
    "    test_sentences[i] = [word2idx[word] if word in word2idx else 0 for word in sentence]"
   ]
  },
  {
   "cell_type": "code",
   "execution_count": null,
   "metadata": {},
   "outputs": [],
   "source": [
    "print([idx2word[x] for x in train_sentences[0]])\n",
    "print([x for x in train_file[0]])"
   ]
  }
 ],
 "metadata": {
  "kernelspec": {
   "display_name": "Python 3",
   "language": "python",
   "name": "python3"
  },
  "language_info": {
   "codemirror_mode": {
    "name": "ipython",
    "version": 3
   },
   "file_extension": ".py",
   "mimetype": "text/x-python",
   "name": "python",
   "nbconvert_exporter": "python",
   "pygments_lexer": "ipython3",
   "version": "3.7.5"
  }
 },
 "nbformat": 4,
 "nbformat_minor": 4
}
