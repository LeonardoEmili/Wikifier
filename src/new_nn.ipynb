{
  "nbformat": 4,
  "nbformat_minor": 0,
  "metadata": {
    "language_info": {
      "name": "python",
      "codemirror_mode": {
        "name": "ipython",
        "version": 3
      },
      "version": "2.7.17-final"
    },
    "orig_nbformat": 2,
    "file_extension": ".py",
    "mimetype": "text/x-python",
    "name": "python",
    "npconvert_exporter": "python",
    "pygments_lexer": "ipython3",
    "version": 3,
    "kernelspec": {
      "name": "python3",
      "display_name": "Python 3"
    },
    "colab": {
      "name": "new_nn.ipynb",
      "provenance": [],
      "collapsed_sections": [],
      "machine_shape": "hm"
    },
    "accelerator": "GPU"
  },
  "cells": [
    {
      "cell_type": "markdown",
      "metadata": {
        "id": "gfFwIafQSFNj",
        "colab_type": "text"
      },
      "source": [
        "# Wikification"
      ]
    },
    {
      "cell_type": "markdown",
      "metadata": {
        "id": "GrNLkPY9YU-d",
        "colab_type": "text"
      },
      "source": [
        "This notebook cointains the code for the neural network which I had to implement as part of my project during the _Honours Programme_ at Sapienza. This task belongs to the category of _Named-entity recognition_ (NER) and the model aims to, given a sentence in natural language (written in english) as input, to recognize parts of the text into Wikipedia entities.\n",
        "\n",
        "The whole dataset was retrieved from public [XML dumps](https://dumps.wikimedia.org/enwiki/) and then turned into useful information using a small script called __Wikifier__ which simply parses these files and extracts lines of text as well as wikilinks. The final dataset is stored as a collection of 8 files located in the directory __input_data/__. I had to split the dataset into smaller files because I was always running into memory errors but also because it provides modularity (basically you can choose the part of the dataset to use for the training).\n",
        "\n",
        "The model was trained on a Tesla P100-PCIE-16GB x1 and was able to achieve nearly a 90% of accuracy using only 6 dumps."
      ]
    },
    {
      "cell_type": "markdown",
      "metadata": {
        "id": "oxIqO3SXSLRE",
        "colab_type": "text"
      },
      "source": [
        "## Imports"
      ]
    },
    {
      "cell_type": "code",
      "metadata": {
        "id": "mMAhu2EIlQ40",
        "colab_type": "code",
        "outputId": "6be51988-0b2d-4e6a-df46-dff1e8bc56f2",
        "colab": {
          "base_uri": "https://localhost:8080/",
          "height": 68
        }
      },
      "source": [
        "from argparse import Namespace\n",
        "from collections import Counter\n",
        "from tqdm import trange\n",
        "from glob import glob\n",
        "from matplotlib import pyplot as plt\n",
        "from torch.utils.data import Dataset, DataLoader\n",
        "from functools import partial\n",
        "from IPython.core.display import display, HTML\n",
        "from contextlib import contextmanager,redirect_stderr\n",
        "import json, os, re, string, bz2, nltk, torch, wikipedia, sys\n",
        "import numpy as np\n",
        "import torch.nn as nn\n",
        "import torch.nn.functional as F\n",
        "import torch.optim as optim\n",
        "import matplotlib.ticker as mtick\n",
        "\n",
        "nltk.download('punkt')\n",
        "\n",
        "# Comment lines below if not executing from Google Colab\n",
        "from google.colab import drive\n",
        "drive.mount('/content/drive')"
      ],
      "execution_count": 217,
      "outputs": [
        {
          "output_type": "stream",
          "text": [
            "[nltk_data] Downloading package punkt to /root/nltk_data...\n",
            "[nltk_data]   Package punkt is already up-to-date!\n",
            "Drive already mounted at /content/drive; to attempt to forcibly remount, call drive.mount(\"/content/drive\", force_remount=True).\n"
          ],
          "name": "stdout"
        }
      ]
    },
    {
      "cell_type": "markdown",
      "metadata": {
        "id": "KreCjqczSTNY",
        "colab_type": "text"
      },
      "source": [
        "## Data Vectorization classes"
      ]
    },
    {
      "cell_type": "markdown",
      "metadata": {
        "id": "r8JKQ_0XSXJt",
        "colab_type": "text"
      },
      "source": [
        "###Dataset"
      ]
    },
    {
      "cell_type": "code",
      "metadata": {
        "id": "idle0UE1lQ48",
        "colab_type": "code",
        "colab": {}
      },
      "source": [
        "class WikiDataset(Dataset):\n",
        "\n",
        "    test_slice = 0.10\n",
        "    val_slice = 0.20\n",
        "    inner_sep = '_'\n",
        "    outer_sep = '|'\n",
        "    link_cutoff = 50\n",
        "\n",
        "    def __init__(self, dataset):\n",
        "        \n",
        "        self._dataset = dataset\n",
        "        self.train_ds = self._dataset['train']\n",
        "        self.val_ds = self._dataset['val']\n",
        "        self.test_ds = self._dataset['test']\n",
        "        self._lookup_dict = {'train': self.train_ds, 'val': self.val_ds, 'test': self.test_ds}\n",
        "        self.set_split('train')\n",
        "\n",
        "    def train_size(self):\n",
        "        return len(self.train_ds['source_sentences'])\n",
        "\n",
        "    def val_size(self):\n",
        "        return len(self.val_ds['source_sentences'])\n",
        "\n",
        "    def test_size(self):\n",
        "        return len(self.test_ds['source_sentences'])\n",
        "\n",
        "    @classmethod\n",
        "    def is_a_link(cls, word):\n",
        "        return len(word) >= 2 and word[0] == cls.outer_sep and word[-1] == cls.outer_sep\n",
        "\n",
        "    @classmethod\n",
        "    def pre_process(cls, text, strip_punctuation):\n",
        "        #punctuation = \"{[]()},.;:!?~^'\\\"\"\n",
        "        \n",
        "        source_sentences = [[token.lower() for token in nltk.word_tokenize(source_sentence)] for source_sentence in text.readlines()]\n",
        "        valid_links = Counter(token.split(cls.outer_sep)[-2] for source_sentence in source_sentences for token in source_sentence if cls.is_a_link(token))\n",
        "        valid_links = set(link for link,frequence in Counter(valid_links).items() if frequence >= cls.link_cutoff)\n",
        "        sentences = []\n",
        "        labels = []\n",
        "\n",
        "        for source_sentence in source_sentences:\n",
        "            sentence = []\n",
        "            label = []\n",
        "            has_valid_links = False\n",
        "            for token in source_sentence:\n",
        "                if cls.is_a_link(token):\n",
        "                    _split = list(filter(None, token.split(cls.outer_sep)))\n",
        "                    if len(_split) == 2:\n",
        "                        text, link = _split\n",
        "                        if link in valid_links:\n",
        "                            link = link.replace(\"_\", \" \")\n",
        "                            has_valid_links = True\n",
        "                        else:\n",
        "                            link = None\n",
        "                        sub_links = filter(None, text.split(cls.inner_sep))\n",
        "                        for sub_link in sub_links:\n",
        "                            label.append(link)\n",
        "                            sentence.append(sub_link)\n",
        "                    else:\n",
        "                        token = token.replace(cls.outer_sep, ' ').replace(cls.inner_sep, ' ')\n",
        "                        label.append(None)\n",
        "                        sentence.append(token)\n",
        "                else:\n",
        "                    label.append(None)\n",
        "                    sentence.append(token)\n",
        "            if has_valid_links:\n",
        "                labels.append(label)\n",
        "                sentences.append(sentence)\n",
        "        return sentences, labels\n",
        "\n",
        "    @classmethod\n",
        "    def read_dataset(cls, ds_path, strip_punctuation):\n",
        "        text = bz2.open(ds_path, mode='rt', encoding='utf-8')\n",
        "        sentences, labels = cls.pre_process(text, strip_punctuation)\n",
        "        train_size = int(len(sentences) * (1 - cls.test_slice - cls.val_slice))\n",
        "        test_size = int(len(sentences) * cls.test_slice)\n",
        "        return {\n",
        "            'train': {'source_sentences': sentences[:train_size], 'target_labels' : labels[:train_size]},\n",
        "            'test': {'source_sentences': sentences[train_size:train_size+test_size], 'target_labels' : labels[train_size:train_size+test_size]},\n",
        "            'val': {'source_sentences' : sentences[train_size+test_size:], 'target_labels' : labels[train_size+test_size:]}\n",
        "        }\n",
        "    \n",
        "    @classmethod\n",
        "    def load_from_files(cls, ds_dir, max_files=-1, file_ext=\"bz2\", strip_punctuation=False):\n",
        "        ds_dir = ds_dir + \"/\" if not ds_dir.endswith(\"/\") else ds_dir\n",
        "        dumps = sorted(glob(ds_dir + \"*.\" + file_ext))\n",
        "        max_files = len(dumps) if max_files <= -1 else max_files\n",
        "        ds = {\n",
        "            'train': {'source_sentences': [], 'target_labels' : []},\n",
        "            'test': {'source_sentences': [], 'target_labels' : []},\n",
        "            'val': {'source_sentences': [], 'target_labels' : []}\n",
        "        }\n",
        "        for i in range(min(max(1, max_files), len(dumps))):\n",
        "            path = dumps[i]\n",
        "            dump = cls.read_dataset(path, strip_punctuation)\n",
        "            for split in ds.keys():\n",
        "                ds[split]['source_sentences'] += dump[split]['source_sentences']\n",
        "                ds[split]['target_labels'] += dump[split]['target_labels']\n",
        "        return cls(ds)\n",
        "        \n",
        "\n",
        "    def reduce(self, dev):\n",
        "        train_mean = sum([len(x) for x in self.train_ds['source_sentences']]) / self.train_size()\n",
        "        val_mean = sum([len(x) for x in self.val_ds['source_sentences']]) / self.val_size()\n",
        "        test_mean = sum([len(x) for x in self.test_ds['source_sentences']]) / self.test_size()\n",
        "\n",
        "        self.train_ds['source_sentences'] = [x for x in self.train_ds['source_sentences'] if len(x) <= train_mean*dev]\n",
        "        self.train_ds['target_labels'] = [y for y in self.train_ds['target_labels'] if len(y) <= train_mean*dev]\n",
        "\n",
        "        self.val_ds['source_sentences'] = [x for x in self.val_ds['source_sentences'] if len(x) <= val_mean*dev]\n",
        "        self.val_ds['target_labels'] = [y for y in self.val_ds['target_labels'] if len(y) <= val_mean*dev]\n",
        "\n",
        "        self.test_ds['source_sentences'] = [x for x in self.test_ds['source_sentences'] if len(x) <= test_mean*dev]\n",
        "        self.test_ds['target_labels'] = [y for y in self.test_ds['target_labels'] if len(y) <= test_mean*dev]\n",
        "\n",
        "    def encode_from(self, vocabulary):\n",
        "\n",
        "        for i, sentence in enumerate(self.train_ds['source_sentences']):\n",
        "            for j, token in enumerate(sentence):\n",
        "                self.train_ds['source_sentences'][i][j] = vocabulary.lookup_word(token)\n",
        "\n",
        "        for i, sentence in enumerate(self.val_ds['source_sentences']):\n",
        "            for j, token in enumerate(sentence):\n",
        "                self.val_ds['source_sentences'][i][j] = vocabulary.lookup_word(token)\n",
        "\n",
        "        for i, sentence in enumerate(self.test_ds['source_sentences']):\n",
        "            for j, token in enumerate(sentence):\n",
        "                self.test_ds['source_sentences'][i][j] = vocabulary.lookup_word(token)\n",
        "\n",
        "        for i, sentence in enumerate(self.train_ds['target_labels']):\n",
        "            for j, token in enumerate(sentence):\n",
        "                self.train_ds['target_labels'][i][j] = vocabulary.lookup_link(token)\n",
        "\n",
        "        for i, sentence in enumerate(self.val_ds['target_labels']):\n",
        "            for j, token in enumerate(sentence):\n",
        "                self.val_ds['target_labels'][i][j] = vocabulary.lookup_link(token)\n",
        "\n",
        "        for i, sentence in enumerate(self.test_ds['target_labels']):\n",
        "            for j, token in enumerate(sentence):\n",
        "                self.test_ds['target_labels'][i][j] = vocabulary.lookup_link(token)\n",
        "\n",
        "\n",
        "    def set_split(self, split=\"train\"):\n",
        "        \"\"\" Selects the splits in the dataset, from 'train', 'val' or 'test' \"\"\"\n",
        "        self._target_split = split\n",
        "        self._target_ds = self._lookup_dict[split]\n",
        "\n",
        "    def __len__(self):\n",
        "        return len(self._target_ds['source_sentences'])\n",
        "\n",
        "    def __getitem__(self, index):\n",
        "        sentence = self._target_ds['source_sentences'][index]\n",
        "        links = self._target_ds['target_labels'][index]\n",
        "        return {'x_source': sentence, 'y_target': links, 'x_source_length' : len(sentence)}\n",
        "\n",
        "    def get_num_batches(self, batch_size):\n",
        "        \"\"\"Given a batch size, return the number of batches in the dataset\"\"\"\n",
        "        return len(self) // batch_size"
      ],
      "execution_count": 0,
      "outputs": []
    },
    {
      "cell_type": "markdown",
      "metadata": {
        "id": "mGwki6e2Sg3R",
        "colab_type": "text"
      },
      "source": [
        "###Vocabulary"
      ]
    },
    {
      "cell_type": "code",
      "metadata": {
        "id": "ZP6DCd2PlQ5B",
        "colab_type": "code",
        "colab": {}
      },
      "source": [
        "class Vocabulary(object):\n",
        "\n",
        "    _padding_token = '<PAD>'\n",
        "    _unknown_token = '<UNK>'\n",
        "    \n",
        "    def __init__(self, word_to_index, link_to_index):\n",
        "        self._word_to_index = word_to_index\n",
        "        self._link_to_index = link_to_index\n",
        "        self._index_to_word = {i:w for i,w in enumerate(word_to_index)}\n",
        "        self._index_to_link = {i:l for i,l in enumerate(link_to_index)}\n",
        "\n",
        "    def source_size(self):\n",
        "        return len(self._word_to_index)\n",
        "\n",
        "    def target_size(self):\n",
        "        return len(self._link_to_index)\n",
        "    \n",
        "    def lookup_word(self, word):\n",
        "        return self._word_to_index.get(word, 1)\n",
        "\n",
        "    def lookup_link(self, link):\n",
        "        return self._link_to_index[link]\n",
        "\n",
        "    def lookup_word_index(self, index):\n",
        "        return self._index_to_word.get(index, self._unknown_token)\n",
        "\n",
        "    def lookup_link_index(self, index):\n",
        "        return self._index_to_link[index]\n",
        "\n",
        "    @classmethod\n",
        "    def of(cls, ds):\n",
        "        source_vocab = dict()\n",
        "        target_vocab = dict()\n",
        "        source_vocab = {cls._padding_token : 0, cls._unknown_token : 1}\n",
        "        target_vocab = {None : 0}\n",
        "\n",
        "        # Add words to the Vocabulary from the training set only\n",
        "        for source_sequence in ds.train_ds['source_sentences']:\n",
        "            for token in source_sequence:\n",
        "                if token not in source_vocab:\n",
        "                    source_vocab[token] = len(source_vocab)\n",
        "\n",
        "        # Add links to the Vocabulary from train, validation and test set. In fact, \n",
        "        # this should not influence predictionsbut provides reliability to the model.\n",
        "        for target_sequence in ds.train_ds['target_labels']:\n",
        "            for token in target_sequence:\n",
        "                if token not in target_vocab:\n",
        "                    target_vocab[token] = len(target_vocab)\n",
        "\n",
        "        for target_sequence in ds.val_ds['target_labels']:\n",
        "            for token in target_sequence:\n",
        "                if token not in target_vocab:\n",
        "                    target_vocab[token] = len(target_vocab)\n",
        "\n",
        "        for target_sequence in ds.test_ds['target_labels']:\n",
        "            for token in target_sequence:\n",
        "                if token not in target_vocab:\n",
        "                    target_vocab[token] = len(target_vocab)\n",
        "\n",
        "        return cls(source_vocab, target_vocab)"
      ],
      "execution_count": 0,
      "outputs": []
    },
    {
      "cell_type": "markdown",
      "metadata": {
        "id": "lgjnHXpySvYw",
        "colab_type": "text"
      },
      "source": [
        "##The Model"
      ]
    },
    {
      "cell_type": "code",
      "metadata": {
        "id": "OgUMHf7HlQ5J",
        "colab_type": "code",
        "colab": {}
      },
      "source": [
        "class BiLSTM(nn.Module):\n",
        "\n",
        "    def __init__(self, vocab_size, embedding_dim, hidden_dim, target_size, batch_size, num_layers=1, num_directions=2, padding_idx=0, device='cpu'):\n",
        "        super(BiLSTM, self).__init__()\n",
        "        self.vocab_size = vocab_size\n",
        "        self.embedding_dim = embedding_dim\n",
        "        self.hidden_dim = hidden_dim\n",
        "        self.target_size = target_size\n",
        "        self.batch_size = batch_size\n",
        "        self.num_layers = num_layers\n",
        "        self.num_directions = num_directions\n",
        "        self.device = device\n",
        "\n",
        "        self.word_embedding = nn.Embedding(vocab_size, embedding_dim, padding_idx=padding_idx)\n",
        "        self.lstm = nn.LSTM(embedding_dim, hidden_dim, num_layers=num_layers, bidirectional=True, batch_first=True)\n",
        "        self.fc = nn.Linear(hidden_dim * num_directions, self.target_size)\n",
        "        self.hidden = self.init_hidden()\n",
        "\n",
        "    def init_hidden(self):\n",
        "        return (torch.randn(self.num_layers * self.num_directions, self.batch_size, self.hidden_dim).to(self.device), \\\n",
        "        torch.randn(self.num_layers * self.num_directions, self.batch_size, self.hidden_dim).to(self.device))\n",
        "    \n",
        "    def forward(self, sequences, lengths):\n",
        "        # Reset LSTM hidden state, otherwise the LSTM will treat a new batch as a continuation of a sequence\n",
        "        self.hidden = self.init_hidden()\n",
        "\n",
        "        # Dim transformation: (batch_size, seq_size, 1) -> (batch_size, seq_size, embedding_dim)\n",
        "        embeds = self.word_embedding(sequences)\n",
        "        embeds = torch.nn.utils.rnn.pack_padded_sequence(embeds, lengths, batch_first=True)\n",
        "\n",
        "        lstm_out, self.hidden = self.lstm(embeds, self.hidden)\n",
        "        # Please note that output_lengths are the original 'lengths'\n",
        "        lstm_out, output_lengths = torch.nn.utils.rnn.pad_packed_sequence(lstm_out, batch_first=True)\n",
        "        batch_size, seq_size, feat_size = lstm_out.shape\n",
        "\n",
        "        # Dim transformation: (batch_size, seq_size, hidden_size * directions) -> (batch_size * seq_size, hidden_size * directions)\n",
        "        lstm_out = lstm_out.contiguous().view(batch_size * seq_size, feat_size)\n",
        "\n",
        "        # Current shape: (batch_size * seq_size, target_size)\n",
        "        link_outputs = self.fc(lstm_out)\n",
        "        return link_outputs"
      ],
      "execution_count": 0,
      "outputs": []
    },
    {
      "cell_type": "markdown",
      "metadata": {
        "id": "OmfCxT5PTLkW",
        "colab_type": "text"
      },
      "source": [
        "##Training Routine"
      ]
    },
    {
      "cell_type": "markdown",
      "metadata": {
        "id": "gV8ftJ7_TN9G",
        "colab_type": "text"
      },
      "source": [
        "###Helper functions"
      ]
    },
    {
      "cell_type": "code",
      "metadata": {
        "id": "WcEctpbdlQ5F",
        "colab_type": "code",
        "colab": {}
      },
      "source": [
        "def _vectorize(indices, padding_index, vector_length):\n",
        "    vector = np.zeros(vector_length, dtype=np.int)\n",
        "    vector[:len(indices)] = indices\n",
        "    vector[len(indices):] = padding_index\n",
        "    return vector.tolist()\n",
        "\n",
        "def vectorize(input_sequence, padding_index=0, vector_length=-1):\n",
        "    if vector_length < 0:\n",
        "        vector_length = input_sequence['x_source_length']\n",
        "\n",
        "    source_sequence = _vectorize(input_sequence['x_source'], padding_index, vector_length)\n",
        "    target_sequence = _vectorize(input_sequence['y_target'], padding_index, vector_length)\n",
        "\n",
        "    return {'x_source' : source_sequence, 'y_target' : target_sequence, 'x_source_length' : input_sequence['x_source_length']}\n",
        "\n",
        "def collate_fn(batch, device='cpu'):\n",
        "    batch.sort(key=lambda sample: sample['x_source_length'], reverse=True)\n",
        "    local_max_length = batch[0]['x_source_length']\n",
        "    batch = [vectorize(sequence, vector_length=local_max_length) for sequence in batch]\n",
        "    output_batch = {'x_source' : [], 'y_target' : [], 'x_source_length' : []}\n",
        "    for sample in batch:\n",
        "        output_batch['x_source'].append(sample['x_source'])\n",
        "        output_batch['y_target'].append(sample['y_target'])\n",
        "        output_batch['x_source_length'].append(sample['x_source_length'])\n",
        "    return {'x_source' : torch.LongTensor(output_batch['x_source']).to(device), 'y_target' : torch.LongTensor(output_batch['y_target']).to(device), 'x_source_length' : torch.LongTensor(output_batch['x_source_length']).to(device)}\n",
        "\n",
        "def compute_accuracy(y_hat, y, mask_index=0):\n",
        "    y_hat = torch.argmax(y_hat, dim=1)\n",
        "    y = y.view(-1)\n",
        "    correct_indices = torch.eq(y_hat, y).float()\n",
        "    valid_indices = torch.ne(y, mask_index).float()\n",
        "    n_correct = (correct_indices * valid_indices).sum().item()\n",
        "    n_valid = max(1, valid_indices.sum().item())\n",
        "    return n_correct / n_valid * 100"
      ],
      "execution_count": 0,
      "outputs": []
    },
    {
      "cell_type": "markdown",
      "metadata": {
        "id": "Q4yH6UMJTSZ4",
        "colab_type": "text"
      },
      "source": [
        "###General utilities"
      ]
    },
    {
      "cell_type": "code",
      "metadata": {
        "id": "ARmh--sITGmH",
        "colab_type": "code",
        "colab": {}
      },
      "source": [
        "def make_state():\n",
        "    return {'train_loss' : [], 'train_acc' : [], 'val_loss' : [], 'val_acc' : [], 'test_loss' : -1, 'test_acc' : -1}\n",
        "\n",
        "def plot_results(train_state, save_path=None):\n",
        "    epochs = len(train_state['train_loss'])\n",
        "    plt.rcParams[\"figure.figsize\"] = (16,12)\n",
        "    plt.style.use('fivethirtyeight')\n",
        "    loss_plot = plt.subplot(211)\n",
        "    loss_plot.set_xticks(np.arange(0, epochs, 1.0))\n",
        "    plt.title('model loss', fontsize=14)\n",
        "    plt.plot(train_state['train_loss'], label='train')\n",
        "    plt.plot(train_state['val_loss'], label='validation')\n",
        "    plt.ylabel('loss', fontsize=12)\n",
        "    plt.xlabel('epoch', fontsize=12)\n",
        "    plt.legend()\n",
        "    accuracy_plt = plt.subplot(212)\n",
        "    accuracy_plt.yaxis.set_major_formatter(mtick.PercentFormatter())\n",
        "    accuracy_plt.set_xticks(np.arange(0, epochs, 1.0))\n",
        "    plt.title('model accuracy', fontsize=14)\n",
        "    plt.plot(train_state['train_acc'], label='train')\n",
        "    plt.plot(train_state['val_acc'], label='validation')\n",
        "    plt.ylabel('accuracy', fontsize=12)\n",
        "    plt.xlabel('epoch', fontsize=12)\n",
        "    plt.legend()\n",
        "    plt.subplots_adjust(hspace=0.4)\n",
        "    if save_path is not None:\n",
        "        plt.savefig(save_path)\n",
        "    else:\n",
        "        plt.show()\n",
        "    plt.close()\n",
        "\n",
        "def save_model(model, optimizer, train_state, vocabulary, args):\n",
        "    epochs = len(train_state['train_loss'])\n",
        "    state = {\n",
        "        'epoch': epochs,\n",
        "        'state_dict': model.state_dict(),\n",
        "        'optimizer': optimizer.state_dict(),\n",
        "        'vocabulary': vocabulary,\n",
        "    }\n",
        "    torch.save(state, os.path.join(args.save_dir + args.model_state_file))\n",
        "    train_state_path = os.path.join(args.save_dir, args.train_state_file)\n",
        "    plot_results(train_state, save_path=train_state_path+\".jpg\")\n",
        "    with open(train_state_path+\".json\", 'w') as f_out:\n",
        "        json.dump(train_state, f_out)"
      ],
      "execution_count": 0,
      "outputs": []
    },
    {
      "cell_type": "markdown",
      "metadata": {
        "id": "E0Ef4IV2TawI",
        "colab_type": "text"
      },
      "source": [
        "###Settings"
      ]
    },
    {
      "cell_type": "code",
      "metadata": {
        "id": "t9ZVZE-J7cDB",
        "colab_type": "code",
        "outputId": "65143620-1104-498c-93e2-ce4dcf3566fd",
        "colab": {
          "base_uri": "https://localhost:8080/",
          "height": 34
        }
      },
      "source": [
        "args = Namespace(\n",
        "    dataset_path=\"drive/My Drive/Wikifier/input_data/\",\n",
        "    max_files = -1,\n",
        "    dev=3,\n",
        "    save_dir=\"drive/My Drive/Wikifier/\",\n",
        "    model_state_file=\"model.pth\",\n",
        "    train_state_file=\"model_performance\",\n",
        "    save_model=True,\n",
        "    embedding_dim = 128,\n",
        "    hidden_dim = 128,\n",
        "    learning_rate = 0.001,\n",
        "    weight_decay = 0.0001,\n",
        "    batch_size = 128,\n",
        "    inference_batch_size = 1,\n",
        "    shuffle = True,\n",
        "    drop_last = True,\n",
        "    epochs = 10,\n",
        "    device=\"cuda\"\n",
        "    #early_stopping_criteria=5\n",
        ")\n",
        "\n",
        "if not torch.cuda.is_available():\n",
        "    print(\"Running model using CPU\")\n",
        "    args.device = 'cpu'\n",
        "else:\n",
        "    print(\"Running model on GPU:\", torch.cuda.get_device_name(0), \"x\" + str(torch.cuda.device_count()))"
      ],
      "execution_count": 68,
      "outputs": [
        {
          "output_type": "stream",
          "text": [
            "Running model on GPU: Tesla P100-PCIE-16GB x1\n"
          ],
          "name": "stdout"
        }
      ]
    },
    {
      "cell_type": "markdown",
      "metadata": {
        "id": "Pg_asmyVThBM",
        "colab_type": "text"
      },
      "source": [
        "###Initializations"
      ]
    },
    {
      "cell_type": "code",
      "metadata": {
        "id": "9J4TVgKklQ5O",
        "colab_type": "code",
        "colab": {}
      },
      "source": [
        "dataset = WikiDataset.load_from_files(args.dataset_path, max_files=args.max_files)\n",
        "dataset.reduce(dev=args.dev)\n",
        "vocabulary = Vocabulary.of(dataset)\n",
        "dataset.encode_from(vocabulary)\n",
        "\n",
        "model = BiLSTM(vocab_size=vocabulary.source_size(), embedding_dim=args.embedding_dim, hidden_dim=args.hidden_dim, \\\n",
        "               target_size=vocabulary.target_size(), batch_size=args.batch_size, device=args.device).to(args.device)\n",
        "optimizer = optim.Adam(model.parameters(), lr=args.learning_rate, weight_decay=args.weight_decay)\n",
        "criterion = nn.CrossEntropyLoss(ignore_index=0)\n",
        "train_state = make_state()"
      ],
      "execution_count": 0,
      "outputs": []
    },
    {
      "cell_type": "markdown",
      "metadata": {
        "id": "NOA5s3mQT10l",
        "colab_type": "text"
      },
      "source": [
        "###Training loop"
      ]
    },
    {
      "cell_type": "code",
      "metadata": {
        "id": "02wXyTwqlQ5X",
        "colab_type": "code",
        "outputId": "fa346ba0-e27b-4dca-d3fe-15aa5043a292",
        "colab": {
          "base_uri": "https://localhost:8080/",
          "height": 374
        }
      },
      "source": [
        "for epoch in range(args.epochs): \n",
        "\n",
        "    # Training\n",
        "\n",
        "    dataset.set_split('train')\n",
        "    dataloader = DataLoader(dataset=dataset, batch_size=args.batch_size, shuffle=args.shuffle, drop_last=args.drop_last, collate_fn=partial(collate_fn, device=args.device))\n",
        "    batch_generator = iter(dataloader)\n",
        "\n",
        "    running_loss = 0.0\n",
        "    running_acc = 0.0\n",
        "    model.train()\n",
        "\n",
        "    for batch_index in trange(len(batch_generator), leave=True, desc=\"Train progress\"):\n",
        "        batch = batch_generator.next()\n",
        "\n",
        "        optimizer.zero_grad()\n",
        "\n",
        "        x, y, x_len = batch.values()\n",
        "        y_hat = model(x, x_len)\n",
        "\n",
        "        loss = criterion(y_hat, y.view(-1))\n",
        "        loss.backward()\n",
        "\n",
        "        optimizer.step()\n",
        "\n",
        "        running_loss += (loss.item() - running_loss) / (batch_index + 1)\n",
        "        acc_t = compute_accuracy(y_hat, y)\n",
        "        running_acc += (acc_t - running_acc) / (batch_index + 1)\n",
        "\n",
        "    train_state['train_loss'].append(running_loss)\n",
        "    train_state['train_acc'].append(running_acc)\n",
        "\n",
        "    # Validation\n",
        "\n",
        "    dataset.set_split('val')\n",
        "    dataloader = DataLoader(dataset=dataset, batch_size=args.batch_size, shuffle=args.shuffle, drop_last=args.drop_last, collate_fn=partial(collate_fn, device=args.device))\n",
        "    batch_generator = iter(dataloader)\n",
        "\n",
        "    running_loss = 0.0\n",
        "    running_acc = 0.0\n",
        "    model.eval()\n",
        "\n",
        "    for batch_index in trange(len(batch_generator), leave=True, desc=\"Validation progress\"):\n",
        "        batch = batch_generator.next()\n",
        "\n",
        "        x, y, x_len = batch.values()\n",
        "        y_hat = model(x, x_len)\n",
        "\n",
        "        loss = criterion(y_hat, y.view(-1))\n",
        "\n",
        "        running_loss += (loss.item() - running_loss) / (batch_index + 1)\n",
        "        acc_t = compute_accuracy(y_hat, y)\n",
        "        running_acc += (acc_t - running_acc) / (batch_index + 1)\n",
        "\n",
        "    train_state['val_loss'].append(running_loss)\n",
        "    train_state['val_acc'].append(running_acc)\n",
        "\n",
        "# Test\n",
        "\n",
        "dataset.set_split('test')\n",
        "dataloader = DataLoader(dataset=dataset, batch_size=args.batch_size, shuffle=args.shuffle, drop_last=args.drop_last, collate_fn=partial(collate_fn, device=args.device))\n",
        "batch_generator = iter(dataloader)\n",
        "\n",
        "running_loss = 0.0\n",
        "running_acc = 0.0\n",
        "model.eval()\n",
        "\n",
        "for batch_index in trange(len(batch_generator), leave=True, desc=\"Test\"):\n",
        "    batch = batch_generator.next()\n",
        "\n",
        "    x, y, x_len = batch.values()\n",
        "    y_hat = model(x, x_len)\n",
        "\n",
        "    loss = criterion(y_hat, y.view(-1))\n",
        "\n",
        "    running_loss += (loss.item() - running_loss) / (batch_index + 1)\n",
        "    acc_t = compute_accuracy(y_hat, y)\n",
        "    running_acc += (acc_t - running_acc) / (batch_index + 1)\n",
        "\n",
        "train_state['test_loss'] = running_loss\n",
        "train_state['test_acc'] = running_acc"
      ],
      "execution_count": 0,
      "outputs": [
        {
          "output_type": "stream",
          "text": [
            "Train progress: 100%|██████████| 18421/18421 [28:40<00:00, 10.71it/s]\n",
            "Validation progress: 100%|██████████| 5263/5263 [02:17<00:00, 38.32it/s]\n",
            "Train progress: 100%|██████████| 18421/18421 [28:41<00:00, 10.70it/s]\n",
            "Validation progress: 100%|██████████| 5263/5263 [02:17<00:00, 38.22it/s]\n",
            "Train progress: 100%|██████████| 18421/18421 [28:38<00:00, 10.72it/s]\n",
            "Validation progress: 100%|██████████| 5263/5263 [02:18<00:00, 37.98it/s]\n",
            "Train progress: 100%|██████████| 18421/18421 [28:38<00:00, 10.72it/s]\n",
            "Validation progress: 100%|██████████| 5263/5263 [02:16<00:00, 38.45it/s]\n",
            "Train progress: 100%|██████████| 18421/18421 [28:33<00:00, 10.75it/s]\n",
            "Validation progress: 100%|██████████| 5263/5263 [02:18<00:00, 37.93it/s]\n",
            "Train progress: 100%|██████████| 18421/18421 [28:38<00:00, 10.72it/s]\n",
            "Validation progress: 100%|██████████| 5263/5263 [02:18<00:00, 38.01it/s]\n",
            "Train progress: 100%|██████████| 18421/18421 [28:48<00:00, 10.66it/s]\n",
            "Validation progress: 100%|██████████| 5263/5263 [02:23<00:00, 36.74it/s]\n",
            "Train progress: 100%|██████████| 18421/18421 [28:56<00:00, 10.61it/s]\n",
            "Validation progress: 100%|██████████| 5263/5263 [02:23<00:00, 36.75it/s]\n",
            "Train progress: 100%|██████████| 18421/18421 [28:53<00:00, 10.62it/s]\n",
            "Validation progress: 100%|██████████| 5263/5263 [02:23<00:00, 36.71it/s]\n",
            "Train progress: 100%|██████████| 18421/18421 [28:55<00:00, 10.62it/s]\n",
            "Validation progress: 100%|██████████| 5263/5263 [02:21<00:00, 37.17it/s]\n",
            "Test: 100%|██████████| 2634/2634 [01:10<00:00, 37.40it/s]\n"
          ],
          "name": "stderr"
        }
      ]
    },
    {
      "cell_type": "markdown",
      "metadata": {
        "id": "YOLW2VmTWSu8",
        "colab_type": "text"
      },
      "source": [
        "###Visualize the output"
      ]
    },
    {
      "cell_type": "code",
      "metadata": {
        "id": "YHjabSqcDTMF",
        "colab_type": "code",
        "outputId": "f639f566-ec89-48f9-ad30-4d37d3767dd6",
        "colab": {
          "base_uri": "https://localhost:8080/",
          "height": 782
        }
      },
      "source": [
        "plot_results(train_state)\n",
        "if args.save_model:\n",
        "    save_model(model, optimizer, train_state, vocabulary, args)"
      ],
      "execution_count": 0,
      "outputs": [
        {
          "output_type": "display_data",
          "data": {
            "image/png": "[encoded data removed]",
            "text/plain": [
              "<Figure size 1152x864 with 2 Axes>"
            ]
          },
          "metadata": {
            "tags": []
          }
        }
      ]
    },
    {
      "cell_type": "markdown",
      "metadata": {
        "id": "U1WcG8wOWdoR",
        "colab_type": "text"
      },
      "source": [
        "##Inference"
      ]
    },
    {
      "cell_type": "markdown",
      "metadata": {
        "id": "oTm0mi9DqHWw",
        "colab_type": "text"
      },
      "source": [
        "###Initializations"
      ]
    },
    {
      "cell_type": "code",
      "metadata": {
        "id": "XtszEYwFEBfS",
        "colab_type": "code",
        "outputId": "891d27c8-d18a-4a60-a62b-207dd81cb938",
        "colab": {
          "base_uri": "https://localhost:8080/",
          "height": 102
        }
      },
      "source": [
        "state = torch.load(args.save_dir + args.model_state_file)\n",
        "vocabulary = state['vocabulary']\n",
        "model = BiLSTM(vocab_size=vocabulary.source_size(), embedding_dim=args.embedding_dim, hidden_dim=args.hidden_dim, target_size=vocabulary.target_size(), batch_size=args.inference_batch_size, device=args.device).to(args.device)\n",
        "model.load_state_dict(state['state_dict'])\n",
        "optimizer = optim.Adam(model.parameters(), lr=args.learning_rate, weight_decay=args.weight_decay)\n",
        "optimizer.load_state_dict(state['optimizer'])\n",
        "with open(args.save_dir + args.train_state_file + \".json\") as json_data:\n",
        "    train_state = json.load(json_data)\n",
        "model.eval()"
      ],
      "execution_count": 8,
      "outputs": [
        {
          "output_type": "execute_result",
          "data": {
            "text/plain": [
              "BiLSTM(\n",
              "  (word_embedding): Embedding(986960, 128, padding_idx=0)\n",
              "  (lstm): LSTM(128, 128, batch_first=True, bidirectional=True)\n",
              "  (fc): Linear(in_features=256, out_features=7358, bias=True)\n",
              ")"
            ]
          },
          "metadata": {
            "tags": []
          },
          "execution_count": 8
        }
      ]
    },
    {
      "cell_type": "markdown",
      "metadata": {
        "id": "Gc1UbafUqZof",
        "colab_type": "text"
      },
      "source": [
        "###Testing"
      ]
    },
    {
      "cell_type": "code",
      "metadata": {
        "id": "jDMKjba6qVeb",
        "colab_type": "code",
        "outputId": "594f5439-520d-4d55-e041-069935e6e535",
        "colab": {
          "base_uri": "https://localhost:8080/",
          "height": 85
        }
      },
      "source": [
        "y = 125456\n",
        "#print('x  :  ',[vocabulary.lookup_word_index(k) for k in dataset[y]['x_source']])\n",
        "#print('_y  : ', [vocabulary.lookup_link_index(k) for k in dataset[y]['y_target']])\n",
        "#print('y  :  ', [vocabulary.lookup_link_index(k) for k in dataset[y]['y_target'] if vocabulary.lookup_link_index(k) is not None])\n",
        "#indexes = [k for k in range(len(dataset[y]['y_target'])) if vocabulary.lookup_link_index(dataset[y]['y_target'][k]) != None]\n",
        "#_x = \"A preacher is a person who delivers sermons or homilies on religious topics to an assembly of people .\"\n",
        "#_x = \"Fermi first major contribution involved the field of statistical mechanics.\"\n",
        "#_x = \"In physics radiation is the emission or transmission of energy in the form of waves or particles through space or through a material medium\"\n",
        "#_x = \"The cell (from Latin cella, meaning small room) is the basic structural, functional, and biological unit of all known organisms.\"\n",
        "#_x = \"Cells consist of cytoplasm enclosed within a membrane, which contains many biomolecules such as proteins and nucleic acids.\"\n",
        "#_x = \"A set shot in Australian rules football is a kick for goal in which the player can set themselves rather than have to quickly react during the play . \"\n",
        "#_x = \"Duns railway station was a railway station that served the town of Duns Scottish Borders , Scotland from 1849 to 1951 on the Berwickshire Railway .\"\n",
        "#_x = \"Hart Ski Corporation is a United States based manufacturer of downhill skis originally of St Paul Minnesota and currently headquartered in Ogden Utah .\"\n",
        "#_x = \"The big cats live in Africa\"\n",
        "_x = \"How are you ? My name is Linus . Every , Linux system has a builtin ls function.\"\n",
        "_x = _x.lower()\n",
        "x = _x.lower()\n",
        "_l = len(x.split())\n",
        "x = [vocabulary.lookup_word(token) for token in x.split()]\n",
        "\n",
        "softmax = nn.Softmax(dim=0)\n",
        "#stopwords = get_stopwords(os.path.join(args.save_dir, \"stopwords.txt\"))\n",
        "'''\n",
        "'''\n",
        "#x = dataset[y]['x_source']\n",
        "_l = len(x)\n",
        "x = torch.LongTensor([_vectorize(x, 0, _l)]).to(args.device)\n",
        "l = torch.LongTensor([_l]).to(args.device)\n",
        "y_hat = model(x, l)\n",
        "y_hat = y_hat.view(1, _l, -1)\n",
        "#print(\"Expected:\", y_hat.shape)\n",
        "#print(y_hat[0,0,:])\n",
        "x1 = softmax(y_hat[0,0,:])\n",
        "#x1 = F.log_softmax(y_hat[0,0,:], dim=0)\n",
        "#print(torch.sum(x1, dim=0))\n",
        "#print(x)\n",
        "#print(x1)\n",
        "#print(torch.max(x1, dim=0))\n",
        "#v, ix = torch.topk(x1, 3, dim=0)\n",
        "#print('asd', v.tolist(), ix)\n",
        "#y_hat = torch.argmax(y_hat, dim=2)[0]\n",
        "#y_hat = y_hat.tolist()\n",
        "#p = [vocabulary.lookup_link_index(token) for token in y_hat]\n",
        "\n",
        "#print('y^ :  ',[p[i] for i in indexes])\n",
        "#print(vocabulary.lookup_link('artificial intelligence'))\n",
        "\n",
        "#Display HTML link\n",
        "#<sub>subscript</sub>\n",
        "\n",
        "\n",
        "\n",
        "@contextmanager\n",
        "def suppress_stderr():\n",
        "    \"\"\"A context manager that redirects stdout and stderr to devnull\"\"\"\n",
        "    with open(os.devnull, 'w') as fnull:\n",
        "        with redirect_stderr(fnull) as err:\n",
        "            yield (err)\n",
        "\n",
        "def get_wikilink(word, link):\n",
        "    #print(\"---:\",word, link)\n",
        "    \n",
        "    try:\n",
        "        with suppress_stderr():\n",
        "            return \"\"\"<a href=\"{}\" target=\"_blank\">{}</a>\"\"\".format(wikipedia.page(link).url, word)\n",
        "    except:\n",
        "        return word\n",
        "\n",
        "def get_stopwords(path):\n",
        "    with open(path, 'r') as f:\n",
        "        stopwords = f.read().splitlines()\n",
        "    return stopwords\n",
        "\n",
        "\n",
        "def annotate(input, stopwords, args):\n",
        "    softmax = nn.Softmax(dim=1)\n",
        "    sentences = [nltk.word_tokenize(sentence) for sentence in nltk.sent_tokenize(input.lower())]\n",
        "    lengths = torch.LongTensor([[len(sentence)] for sentence in sentences])\n",
        "    input_vectors = [torch.LongTensor([[vocabulary.lookup_word(word) for word in sentence]]).to(args.device) for sentence in sentences]\n",
        "    predictions = [softmax(model(sentence, length)) for i, (sentence, length) in enumerate(zip(input_vectors, lengths))]\n",
        "    predictions = [[tensor.tolist() for tensor in torch.max(predictions[i], dim=1)] for i in range(len(predictions))]\n",
        "    scores, predictions = list(zip(*predictions))\n",
        "    predictions = [[vocabulary.lookup_link_index(token_index) for token_index in token_indices] for token_indices in predictions]\n",
        "\n",
        "    # The line below seems to work\n",
        "    #predictions = [[get_wikilink(sentences[i][j], token) if scores[i][j] > 0.18 else sentences[i][j] for j, token in enumerate(sentence)] for i, sentence in enumerate(predictions)]\n",
        "    for prediction, score, sentence in zip(predictions, scores, sentences):\n",
        "        s = []\n",
        "        #print(prediction, end=\" \")\n",
        "        for i in range(len(prediction)):\n",
        "            if prediction[i] not in stopwords and score[i] > 0.18:\n",
        "                s.append(get_wikilink(sentence[i], prediction[i]))\n",
        "            else:\n",
        "                s.append(sentence[i])\n",
        "        display(HTML(\" \".join(s)))\n",
        "        \n",
        "\n",
        "    print()\n",
        "    #print(predictions)\n",
        "    #print(torch.sum(predictions[0], dim=1))\n",
        "\n",
        "    \n",
        "    #print(sentences[0], lengths[0])\n",
        "    # Vectorize and turn them into Tensors ...\n",
        "    #x = torch.LongTensor([_vectorize(x, 0, _l) for _ in range(args.batch_size)]).to(args.device)\n",
        "    return predictions\n",
        "\n",
        "\n",
        "#display(HTML(\"\"\"Hi<sub><a href=\"https://google.com\" target=\"_blank\">link</a></sub>\"\"\"))\n",
        "wikipedia.set_lang(\"en\")\n",
        "annotate(_x, stopwords, args)\n",
        "#display(HTML(get_wikilink(\"cat\", \"cat\")))\n",
        "\n",
        "#print(wikipedia.page(\"linux\").url)\n",
        "\n",
        "#print('links:', p)\n",
        "for i in range(_l):\n",
        "    x1 = F.softmax(y_hat[0,i,:], dim=0)\n",
        "    v, ix = torch.topk(x1, 3, dim=0)\n",
        "    v, ix = v.tolist(), ix.tolist()\n",
        "    link = vocabulary.lookup_link_index(ix[0]) if _x.split()[i] not in stopwords and v[0] > 0.18 else \"\"\n",
        "    #print(_x.split()[i], v, ix, link)"
      ],
      "execution_count": 219,
      "outputs": [
        {
          "output_type": "display_data",
          "data": {
            "text/html": [
              "how are you ?"
            ],
            "text/plain": [
              "<IPython.core.display.HTML object>"
            ]
          },
          "metadata": {
            "tags": []
          }
        },
        {
          "output_type": "display_data",
          "data": {
            "text/html": [
              "my name is linus ."
            ],
            "text/plain": [
              "<IPython.core.display.HTML object>"
            ]
          },
          "metadata": {
            "tags": []
          }
        },
        {
          "output_type": "display_data",
          "data": {
            "text/html": [
              "every , linux <a href=\"https://en.wikipedia.org/wiki/Operating_system\" target=\"_blank\">system</a> has a builtin ls function ."
            ],
            "text/plain": [
              "<IPython.core.display.HTML object>"
            ]
          },
          "metadata": {
            "tags": []
          }
        },
        {
          "output_type": "stream",
          "text": [
            "\n"
          ],
          "name": "stdout"
        }
      ]
    },
    {
      "cell_type": "markdown",
      "metadata": {
        "id": "ku-FNn6idwYF",
        "colab_type": "text"
      },
      "source": [
        "##Future improvements and considerations"
      ]
    }
  ]
}