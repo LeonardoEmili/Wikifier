{
 "cells": [
  {
   "cell_type": "code",
   "execution_count": 13,
   "metadata": {},
   "outputs": [
    {
     "name": "stderr",
     "output_type": "stream",
     "text": "[nltk_data] Downloading package punkt to /home/leo/nltk_data...\n[nltk_data]   Package punkt is already up-to-date!\n"
    },
    {
     "data": {
      "text/plain": "True"
     },
     "execution_count": 13,
     "metadata": {},
     "output_type": "execute_result"
    }
   ],
   "source": [
    "import bz2\n",
    "import nltk\n",
    "import numpy as np\n",
    "import re\n",
    "import os\n",
    "import torch\n",
    "from collections import Counter\n",
    "from argparse import Namespace\n",
    "from torch.utils.data import Dataset, DataLoader\n",
    "nltk.download(\"punkt\")"
   ]
  },
  {
   "cell_type": "markdown",
   "metadata": {},
   "source": [
    "Below some useful utility functions."
   ]
  },
  {
   "cell_type": "code",
   "execution_count": 14,
   "metadata": {},
   "outputs": [],
   "source": [
    "'''\n",
    "This is responsible for collecting links for generating the target classes.\n",
    "'''\n",
    "def collect_links(input_file, valid_links, INNER_SEP, OUTER_SEP):\n",
    "    links = []\n",
    "    for sentence in input_file:\n",
    "        for word in sentence:\n",
    "            if word[0] == OUTER_SEP and word[-1] == OUTER_SEP:\n",
    "                _link = list(filter(None, word.split(OUTER_SEP)))\n",
    "                if len(_link) == 2 and _link[1] in valid_links:\n",
    "                    links.append(_link[1])\n",
    "    return input_file, links\n",
    "'''\n",
    "This takes the text corpus as input and while clearing it from links' markup, it creates a list of labels\n",
    "which has the same shape of the input sentence but consists of the target links.\n",
    "'''\n",
    "def encode_labels(text_corpus, link_to_idx, INNER_SEP, OUTER_SEP, default_no_link):\n",
    "    labels = []\n",
    "    sentences = []\n",
    "    for sentence in text_corpus:\n",
    "        _label = []\n",
    "        _sentence = []\n",
    "        for word in sentence:\n",
    "            if word[0] == OUTER_SEP and word[-1] == OUTER_SEP:\n",
    "                _split = list(filter(None, word.split(OUTER_SEP)))\n",
    "                if len(_split) == 2:\n",
    "                    text, link = _split\n",
    "                    sub_links = filter(None, text.split(INNER_SEP))\n",
    "                    for sub_link in sub_links:\n",
    "                        _label.append(link_to_idx.get(link, default_no_link))\n",
    "                        _sentence.append(sub_link)\n",
    "                else:\n",
    "                    word = word.replace(OUTER_SEP, '')\n",
    "                    _label.append(default_no_link)\n",
    "                    _sentence.append(word)\n",
    "            else:\n",
    "                _label.append(default_no_link)\n",
    "                _sentence.append(word)\n",
    "        labels.append(_label)\n",
    "        sentences.append(_sentence)\n",
    "    return labels, sentences\n",
    "\n",
    "# This function takes a batch of sentences and pads/trims every sentence to seq_len\n",
    "def pad_input(sentences, seq_len, pad_token):\n",
    "    features = np.ones((len(sentences), seq_len)) * pad_token\n",
    "    for ii, sentence in enumerate(sentences):\n",
    "        features[ii, :len(sentence)] = np.array(sentence)[:seq_len]\n",
    "    return features"
   ]
  },
  {
   "cell_type": "markdown",
   "metadata": {},
   "source": [
    "The following cell is responsible for preprocessing input files into sentences, creating the vocabularies and vectorizing them into useful information for the model."
   ]
  },
  {
   "cell_type": "code",
   "execution_count": 15,
   "metadata": {},
   "outputs": [],
   "source": [
    "INNER_SEP = '_'\n",
    "OUTER_SEP = '|'\n",
    "\n",
    "# Read input files\n",
    "train_file = bz2.BZ2File('../input_data/train.txt.bz2').read().decode('utf-8')\n",
    "test_file = bz2.BZ2File('../input_data/test.txt.bz2').read().decode('utf-8')\n",
    "\n",
    "# Tokenize sentences using NLTK\n",
    "train_file = [[word.lower() for word in nltk.word_tokenize(sentence)] for sentence in nltk.sent_tokenize(train_file)]\n",
    "test_file = [[word.lower() for word in  nltk.word_tokenize(sentence)] for sentence in nltk.sent_tokenize(test_file)]\n",
    "\n",
    "# Set a cutoff to consider a smaller subset of links\n",
    "link_cutoff = 1\n",
    "valid_links = Counter([word.split(OUTER_SEP)[-2] for sentence in train_file for word in sentence if word[0] == OUTER_SEP and word[-1] == OUTER_SEP])\n",
    "valid_links = set([link for link,frequence in valid_links.items() if frequence >= link_cutoff])\n",
    "\n",
    "# Collect links for the target vocabulay, in essence for creating output classes\n",
    "train_file, train_links = collect_links(train_file, valid_links, INNER_SEP, OUTER_SEP)\n",
    "test_file, test_links = collect_links(test_file, valid_links, INNER_SEP, OUTER_SEP)\n",
    "\n",
    "# Create mappings for the input vocabulary\n",
    "output = train_links + test_links + [\"_TEXT\"]\n",
    "_NO_LINK = len(output) -1\n",
    "link_to_idx = {l:i for i,l in enumerate(output)}\n",
    "idx_to_link = {i:l for i,l in enumerate(output)}\n",
    "\n",
    "# Create vectorized classes and input files are cleared from link's markup, hence they are now simple text\n",
    "train_labels, train_file = encode_labels(train_file, link_to_idx, INNER_SEP, OUTER_SEP, _NO_LINK)\n",
    "test_labels, test_file = encode_labels(test_file, link_to_idx, INNER_SEP, OUTER_SEP, _NO_LINK)\n",
    "\n",
    "# Create the input vocabulary\n",
    "MASK_TOKEN = \"_MASK\"\n",
    "UNKNOWN_TOKEN = \"_UNK\"\n",
    "vocabulary = Counter([word for sentence in train_file for word in sentence])\n",
    "vocabulary = [MASK_TOKEN, UNKNOWN_TOKEN] + sorted(vocabulary, key=vocabulary.get, reverse=True)\n",
    "\n",
    "# Create the mapping necessary for the vocabulary, in essence this is needed for vectorizing the input\n",
    "word_to_idx = {w:i for i,w in enumerate(vocabulary)}\n",
    "idx_to_word = {i:w for i,w in enumerate(vocabulary)} # probably vocabulary array is enough"
   ]
  },
  {
   "cell_type": "code",
   "execution_count": 16,
   "metadata": {},
   "outputs": [],
   "source": [
    "# Encode words as integers ...\n",
    "\n",
    "train_sentences = [[word_to_idx[word] if word in word_to_idx else word_to_idx[UNKOWN_TOKEN] for word in sentence] for sentence in train_file]\n",
    "test_sentences = [[word_to_idx[word] if word in word_to_idx else word_to_idx[UNKOWN_TOKEN] for word in sentence] for sentence in test_file]\n",
    "\n",
    "#train_sentences.sort(key=len, reverse=True)\n",
    "#test_sentences.sort(key=len, reverse=True)\n",
    "\n",
    "batch_size = 32\n",
    "\n",
    "\n",
    "\n",
    "#train_lengths = [len(sentence) for sentence in train_sentences]\n",
    "#test_lengths = [len(sentence) for sentence in test_sentences]"
   ]
  }
 ],
 "metadata": {
  "kernelspec": {
   "display_name": "Python 3.7.5 64-bit",
   "language": "python",
   "name": "python37564bit60a9d87cb4554db58e95b9393c2a2820"
  },
  "language_info": {
   "codemirror_mode": {
    "name": "ipython",
    "version": 3
   },
   "file_extension": ".py",
   "mimetype": "text/x-python",
   "name": "python",
   "nbconvert_exporter": "python",
   "pygments_lexer": "ipython3",
   "version": "3.7.5-final"
  }
 },
 "nbformat": 4,
 "nbformat_minor": 4
}