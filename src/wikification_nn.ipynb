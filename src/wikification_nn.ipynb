{
 "cells": [
  {
   "cell_type": "code",
   "execution_count": 1,
   "metadata": {},
   "outputs": [
    {
     "name": "stderr",
     "output_type": "stream",
     "text": [
      "[nltk_data] Downloading package punkt to /home/leo/nltk_data...\n",
      "[nltk_data]   Package punkt is already up-to-date!\n"
     ]
    },
    {
     "data": {
      "text/plain": [
       "True"
      ]
     },
     "execution_count": 1,
     "metadata": {},
     "output_type": "execute_result"
    }
   ],
   "source": [
    "import bz2\n",
    "import nltk\n",
    "import numpy as np\n",
    "import json\n",
    "from collections import Counter\n",
    "nltk.download('punkt')"
   ]
  },
  {
   "cell_type": "code",
   "execution_count": 11,
   "metadata": {},
   "outputs": [
    {
     "name": "stdout",
     "output_type": "stream",
     "text": [
      "618911\n",
      "125712\n"
     ]
    }
   ],
   "source": [
    "train_file = bz2.BZ2File('../input_data/train.json.bz2')\n",
    "test_file = bz2.BZ2File('../input_data/test.json.bz2')\n",
    "train_file = json.load(train_file)\n",
    "test_file = json.load(test_file)\n",
    "print(len(train_file))\n",
    "print(len(test_file))"
   ]
  },
  {
   "cell_type": "code",
   "execution_count": 12,
   "metadata": {},
   "outputs": [],
   "source": [
    "#def process_input_file(input_file, valid_links, link_delim):\n",
    "#    result_file = []\n",
    "#    links = []\n",
    "#    for i, line in enumerate(input_file):\n",
    "#        sentence, link = next(iter(line.items()))\n",
    "#        sentence = sentence.lower().strip()\n",
    "#        if link is None or link not in valid_links:\n",
    "#            result_file.append(sentence)\n",
    "#        else:\n",
    "#            for sub_link in sentence.split(' '):\n",
    "#                result_file.append(sub_link)\n",
    "#                result_file[-1] = link_delim + result_file[-1] + link_delim\n",
    "#                links.append(link)\n",
    "#    return result_file, links\n",
    "\n",
    "\n",
    "def process_input_file(input_file, valid_links, link_delim):\n",
    "    links = []\n",
    "    for i, line in enumerate(input_file):\n",
    "        sentence, link = next(iter(line.items()))\n",
    "        sentence = sentence.lower().strip()\n",
    "        if link not in valid_links:\n",
    "            input_file[i] = sentence\n",
    "        else:\n",
    "            sub_links = sentence.split()\n",
    "            input_file[i] = \"\"\n",
    "            for sub_link in sub_links:\n",
    "                input_file[i] += link_delim + sub_link + link_delim + \" \"\n",
    "                links.append(link)\n",
    "            input_file[i] = input_file[i][:-1]\n",
    "    return input_file, links\n",
    "\n",
    "def encode_labels(sentences_with_link_markup, links, link2idx, link_delim):\n",
    "    encoded_labels = []\n",
    "    link_index = 0;\n",
    "    for sentence in sentences_with_link_markup:\n",
    "        encoded_label = []\n",
    "        for word in sentence:\n",
    "            if (word[0] == link_delim and word[-1] == link_delim):\n",
    "                encoded_label.append(link2idx[links[link_index]])\n",
    "                link_index += 1\n",
    "            else:\n",
    "                encoded_label.append(0)\n",
    "        encoded_labels.append(encoded_label)\n",
    "    return encoded_labels\n",
    "\n",
    "def extend_sublink_mappings(link2idx):\n",
    "    for link,index in list(link2idx.items()):\n",
    "        sub_links = link.split(\" \")\n",
    "        for sub_link in sub_links:\n",
    "            link2idx[sub_link] = index\n",
    "    return link2idx"
   ]
  },
  {
   "cell_type": "code",
   "execution_count": 13,
   "metadata": {},
   "outputs": [
    {
     "ename": "IndexError",
     "evalue": "list index out of range",
     "output_type": "error",
     "traceback": [
      "\u001b[0;31m---------------------------------------------------------------------------\u001b[0m",
      "\u001b[0;31mIndexError\u001b[0m                                Traceback (most recent call last)",
      "\u001b[0;32m<ipython-input-13-e6a2265012a5>\u001b[0m in \u001b[0;36m<module>\u001b[0;34m\u001b[0m\n\u001b[1;32m     23\u001b[0m \u001b[0mlink2idx\u001b[0m \u001b[0;34m=\u001b[0m \u001b[0mextend_sublink_mappings\u001b[0m\u001b[0;34m(\u001b[0m\u001b[0mlink2idx\u001b[0m\u001b[0;34m)\u001b[0m\u001b[0;34m\u001b[0m\u001b[0;34m\u001b[0m\u001b[0m\n\u001b[1;32m     24\u001b[0m \u001b[0;34m\u001b[0m\u001b[0m\n\u001b[0;32m---> 25\u001b[0;31m \u001b[0mtrain_encoded_labels\u001b[0m \u001b[0;34m=\u001b[0m \u001b[0mencode_labels\u001b[0m\u001b[0;34m(\u001b[0m\u001b[0mtrain_file\u001b[0m\u001b[0;34m,\u001b[0m \u001b[0mtrain_links\u001b[0m\u001b[0;34m,\u001b[0m \u001b[0mlink2idx\u001b[0m\u001b[0;34m,\u001b[0m \u001b[0mLINK_DELIM\u001b[0m\u001b[0;34m)\u001b[0m\u001b[0;34m\u001b[0m\u001b[0;34m\u001b[0m\u001b[0m\n\u001b[0m\u001b[1;32m     26\u001b[0m \u001b[0mtest_encoded_labels\u001b[0m \u001b[0;34m=\u001b[0m \u001b[0mencode_labels\u001b[0m\u001b[0;34m(\u001b[0m\u001b[0mtest_file\u001b[0m\u001b[0;34m,\u001b[0m \u001b[0mtest_links\u001b[0m\u001b[0;34m,\u001b[0m \u001b[0mlink2idx\u001b[0m\u001b[0;34m,\u001b[0m \u001b[0mLINK_DELIM\u001b[0m\u001b[0;34m)\u001b[0m\u001b[0;34m\u001b[0m\u001b[0;34m\u001b[0m\u001b[0m\n\u001b[1;32m     27\u001b[0m \u001b[0mprint\u001b[0m\u001b[0;34m(\u001b[0m\u001b[0mlen\u001b[0m\u001b[0;34m(\u001b[0m\u001b[0mtrain_links\u001b[0m\u001b[0;34m)\u001b[0m\u001b[0;34m)\u001b[0m\u001b[0;34m\u001b[0m\u001b[0;34m\u001b[0m\u001b[0m\n",
      "\u001b[0;32m<ipython-input-12-071442e1b452>\u001b[0m in \u001b[0;36mencode_labels\u001b[0;34m(sentences_with_link_markup, links, link2idx, link_delim)\u001b[0m\n\u001b[1;32m     38\u001b[0m         \u001b[0;32mfor\u001b[0m \u001b[0mword\u001b[0m \u001b[0;32min\u001b[0m \u001b[0msentence\u001b[0m\u001b[0;34m:\u001b[0m\u001b[0;34m\u001b[0m\u001b[0;34m\u001b[0m\u001b[0m\n\u001b[1;32m     39\u001b[0m             \u001b[0;32mif\u001b[0m \u001b[0;34m(\u001b[0m\u001b[0mword\u001b[0m\u001b[0;34m[\u001b[0m\u001b[0;36m0\u001b[0m\u001b[0;34m]\u001b[0m \u001b[0;34m==\u001b[0m \u001b[0mlink_delim\u001b[0m \u001b[0;32mand\u001b[0m \u001b[0mword\u001b[0m\u001b[0;34m[\u001b[0m\u001b[0;34m-\u001b[0m\u001b[0;36m1\u001b[0m\u001b[0;34m]\u001b[0m \u001b[0;34m==\u001b[0m \u001b[0mlink_delim\u001b[0m\u001b[0;34m)\u001b[0m\u001b[0;34m:\u001b[0m\u001b[0;34m\u001b[0m\u001b[0;34m\u001b[0m\u001b[0m\n\u001b[0;32m---> 40\u001b[0;31m                 \u001b[0mencoded_label\u001b[0m\u001b[0;34m.\u001b[0m\u001b[0mappend\u001b[0m\u001b[0;34m(\u001b[0m\u001b[0mlink2idx\u001b[0m\u001b[0;34m[\u001b[0m\u001b[0mlinks\u001b[0m\u001b[0;34m[\u001b[0m\u001b[0mlink_index\u001b[0m\u001b[0;34m]\u001b[0m\u001b[0;34m]\u001b[0m\u001b[0;34m)\u001b[0m\u001b[0;34m\u001b[0m\u001b[0;34m\u001b[0m\u001b[0m\n\u001b[0m\u001b[1;32m     41\u001b[0m                 \u001b[0mlink_index\u001b[0m \u001b[0;34m+=\u001b[0m \u001b[0;36m1\u001b[0m\u001b[0;34m\u001b[0m\u001b[0;34m\u001b[0m\u001b[0m\n\u001b[1;32m     42\u001b[0m             \u001b[0;32melse\u001b[0m\u001b[0;34m:\u001b[0m\u001b[0;34m\u001b[0m\u001b[0;34m\u001b[0m\u001b[0m\n",
      "\u001b[0;31mIndexError\u001b[0m: list index out of range"
     ]
    }
   ],
   "source": [
    "# Preprocess data ...\n",
    "\n",
    "LINK_DELIM = '_'\n",
    "link_treshold = 1\n",
    "valid_links = Counter([next(iter(sentence.values())) for sentence in train_file if next(iter(sentence.values())) is not None])\n",
    "valid_links = set([link for link,frequence in valid_links.items() if frequence >= link_treshold])\n",
    "\n",
    "train_file, train_links = process_input_file(train_file, valid_links, LINK_DELIM)\n",
    "test_file, test_links = process_input_file(test_file, valid_links, LINK_DELIM)\n",
    "\n",
    "train_file = [nltk.word_tokenize(sentence) for sentence in nltk.sent_tokenize(\" \".join(train_file))]\n",
    "test_file = [nltk.word_tokenize(sentence) for sentence in nltk.sent_tokenize(\" \".join(test_file))]\n",
    "train_sentences = [[word.replace(LINK_DELIM,'') for word in sentence] for sentence in train_file]\n",
    "test_sentences = [[word.replace(LINK_DELIM,'') for word in sentence] for sentence in test_file]\n",
    "\n",
    "vocabulary = Counter([word for sentence in train_sentences for word in sentence for char in word])\n",
    "vocabulary = ['_PAD','_UNK'] + sorted(vocabulary, key=vocabulary.get, reverse=True)\n",
    "output = [\"_TEXT\"] + train_links\n",
    "\n",
    "word2idx = {w:i for i,w in enumerate(vocabulary)}\n",
    "idx2word = {i:w for i,w in enumerate(vocabulary)} # probably vocabulary array is enough\n",
    "link2idx = {l:i for i,l in enumerate(output)}\n",
    "link2idx = extend_sublink_mappings(link2idx)\n",
    "\n",
    "train_encoded_labels = encode_labels(train_file, train_links, link2idx, LINK_DELIM)\n",
    "test_encoded_labels = encode_labels(test_file, test_links, link2idx, LINK_DELIM)\n",
    "print(len(train_links))\n"
   ]
  },
  {
   "cell_type": "code",
   "execution_count": 10,
   "metadata": {},
   "outputs": [
    {
     "name": "stdout",
     "output_type": "stream",
     "text": [
      "655011\n",
      "654802\n",
      "---\n"
     ]
    },
    {
     "ename": "NameError",
     "evalue": "name 'train_encoded_labels' is not defined",
     "output_type": "error",
     "traceback": [
      "\u001b[0;31m---------------------------------------------------------------------------\u001b[0m",
      "\u001b[0;31mNameError\u001b[0m                                 Traceback (most recent call last)",
      "\u001b[0;32m<ipython-input-10-f6f44444e57c>\u001b[0m in \u001b[0;36m<module>\u001b[0;34m\u001b[0m\n\u001b[1;32m     13\u001b[0m \u001b[0;31m#print(\"sermon\" in map(str.lower, list(link2idx.keys())))\u001b[0m\u001b[0;34m\u001b[0m\u001b[0;34m\u001b[0m\u001b[0;34m\u001b[0m\u001b[0m\n\u001b[1;32m     14\u001b[0m \u001b[0my\u001b[0m\u001b[0;34m=\u001b[0m\u001b[0;36m2\u001b[0m\u001b[0;34m\u001b[0m\u001b[0;34m\u001b[0m\u001b[0m\n\u001b[0;32m---> 15\u001b[0;31m \u001b[0mprint\u001b[0m\u001b[0;34m(\u001b[0m\u001b[0mtrain_encoded_labels\u001b[0m\u001b[0;34m[\u001b[0m\u001b[0my\u001b[0m\u001b[0;34m]\u001b[0m\u001b[0;34m)\u001b[0m\u001b[0;34m\u001b[0m\u001b[0;34m\u001b[0m\u001b[0m\n\u001b[0m\u001b[1;32m     16\u001b[0m \u001b[0mprint\u001b[0m\u001b[0;34m(\u001b[0m\u001b[0mlen\u001b[0m\u001b[0;34m(\u001b[0m\u001b[0mtrain_encoded_labels\u001b[0m\u001b[0;34m[\u001b[0m\u001b[0my\u001b[0m\u001b[0;34m]\u001b[0m\u001b[0;34m)\u001b[0m\u001b[0;34m)\u001b[0m\u001b[0;34m\u001b[0m\u001b[0;34m\u001b[0m\u001b[0m\n\u001b[1;32m     17\u001b[0m \u001b[0mprint\u001b[0m\u001b[0;34m(\u001b[0m\u001b[0mtrain_file\u001b[0m\u001b[0;34m[\u001b[0m\u001b[0my\u001b[0m\u001b[0;34m]\u001b[0m\u001b[0;34m)\u001b[0m\u001b[0;34m\u001b[0m\u001b[0;34m\u001b[0m\u001b[0m\n",
      "\u001b[0;31mNameError\u001b[0m: name 'train_encoded_labels' is not defined"
     ]
    }
   ],
   "source": [
    "#TODO: check double dominoes in\n",
    "# print(train_file[y])\n",
    "# and the reason why process_input_file crashed when returning a larger file\n",
    "\n",
    "#train_encoded_labels = encode_labels(train_file, train_links, link2idx, LINK_DELIM)\n",
    "\n",
    "#print([word for sentence in train_file for word in sentence if word[0] == '_' == word[-1]][:50])\n",
    "#y=5\n",
    "print(len([word for sentence in train_file for word in sentence if word[0]==word[-1]=='_']))\n",
    "print(len(train_links))\n",
    "print(\"---\")\n",
    "#print([x for x in train_links if \"sermon\" in x.lower()])\n",
    "#print(\"sermon\" in map(str.lower, list(link2idx.keys())))\n",
    "y=2\n",
    "print(train_encoded_labels[y])\n",
    "print(len(train_encoded_labels[y]))\n",
    "print(train_file[y])\n",
    "print(train_sentences[y])\n",
    "print(len(train_sentences[y]))\n",
    "print(output[157700])\n",
    "#print(output[202145])\n",
    "#print(link2idx[\"Polytope\"])\n",
    "\n",
    "        \n",
    "train_sentences_len = [len(sentence) for sentence in train_sentences]\n",
    "max_train_sentences_len = max(train_sentences_len)\n",
    "\n",
    "test_sentences_len = [len(sentence) for sentence in test_sentences]\n",
    "max_test_sentences_len = max(test_sentences_len)\n"
   ]
  },
  {
   "cell_type": "code",
   "execution_count": null,
   "metadata": {},
   "outputs": [],
   "source": [
    "# Encode words as integers ...\n",
    "\n",
    "for i, sentence in enumerate(train_sentences):\n",
    "    train_sentences[i] = [word2idx[word] if word in word2idx else 1 for word in sentence]\n",
    "    \n",
    "for i, sentence in enumerate(test_sentences):\n",
    "    test_sentences[i] = [word2idx[word] if word in word2idx else 0 for word in sentence]"
   ]
  },
  {
   "cell_type": "code",
   "execution_count": null,
   "metadata": {},
   "outputs": [],
   "source": [
    "print([idx2word[x] for x in train_sentences[0]])\n",
    "print([x for x in train_file[0]])"
   ]
  }
 ],
 "metadata": {
  "kernelspec": {
   "display_name": "Python 3",
   "language": "python",
   "name": "python3"
  },
  "language_info": {
   "codemirror_mode": {
    "name": "ipython",
    "version": 3
   },
   "file_extension": ".py",
   "mimetype": "text/x-python",
   "name": "python",
   "nbconvert_exporter": "python",
   "pygments_lexer": "ipython3",
   "version": "3.7.5"
  }
 },
 "nbformat": 4,
 "nbformat_minor": 4
}
