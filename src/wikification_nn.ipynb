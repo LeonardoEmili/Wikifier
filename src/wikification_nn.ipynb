{
 "cells": [
  {
   "cell_type": "code",
   "execution_count": 17,
   "metadata": {},
   "outputs": [
    {
     "name": "stderr",
     "output_type": "stream",
     "text": [
      "[nltk_data] Downloading package punkt to /home/leo/nltk_data...\n",
      "[nltk_data]   Package punkt is already up-to-date!\n"
     ]
    },
    {
     "data": {
      "text/plain": [
       "True"
      ]
     },
     "execution_count": 17,
     "metadata": {},
     "output_type": "execute_result"
    }
   ],
   "source": [
    "import bz2\n",
    "import nltk\n",
    "import numpy as np\n",
    "import json\n",
    "import re\n",
    "from collections import Counter\n",
    "nltk.download('punkt')"
   ]
  },
  {
   "cell_type": "code",
   "execution_count": 54,
   "metadata": {},
   "outputs": [
    {
     "name": "stdout",
     "output_type": "stream",
     "text": [
      "612271\n",
      "129619\n"
     ]
    }
   ],
   "source": [
    "train_file = bz2.BZ2File('../input_data/train.json.bz2')\n",
    "test_file = bz2.BZ2File('../input_data/test.json.bz2')\n",
    "train_file = json.load(train_file)\n",
    "test_file = json.load(test_file)\n",
    "print(len(train_file))\n",
    "print(len(test_file))\n",
    "\n",
    "#train_file, train_links = process_input_file(train_file, valid_links, LINK_DELIM)"
   ]
  },
  {
   "cell_type": "code",
   "execution_count": 55,
   "metadata": {},
   "outputs": [],
   "source": [
    "def process_input_file(input_file, valid_links, link_delim):\n",
    "    links = []\n",
    "    for i, line in enumerate(input_file):\n",
    "        sentence, link = next(iter(line.items()))\n",
    "        input_file[i] = sentence.lower().strip()\n",
    "        if link in valid_links:\n",
    "            input_file[i] = \"\".join([word.title() for word in input_file[i].split()])\n",
    "            links.append(link)\n",
    "    return \" \".join(input_file), links\n",
    "\n",
    "def encode_labels(text_with_link_markup, links, link2idx, link_delim, default_no_link):\n",
    "    encoded_labels = []\n",
    "    output_sentences = []\n",
    "    uppercase_regex = re.compile(\"[A-Z][^A-Z]*\")\n",
    "    link_index = 0\n",
    "    for sentence in nltk.sent_tokenize(text_with_link_markup):\n",
    "        encoded_label = []\n",
    "        output_sentence = []\n",
    "        for word in nltk.word_tokenize(sentence):\n",
    "            if word[0].isupper():\n",
    "                sub_links = re.findall(uppercase_regex, word)\n",
    "                #sub_links = filter(None, word.split(link_delim))\n",
    "                for sub_link in sub_links:\n",
    "                    encoded_label.append(link2idx[links[link_index]])\n",
    "                    output_sentence.append(sub_link)\n",
    "                link_index += 1\n",
    "            else:\n",
    "                encoded_label.append(default_no_link)\n",
    "                output_sentence.append(word)\n",
    "        encoded_labels.append(encoded_label)\n",
    "        output_sentences.append(output_sentence)\n",
    "    return encoded_labels, output_sentences"
   ]
  },
  {
   "cell_type": "code",
   "execution_count": 56,
   "metadata": {},
   "outputs": [
    {
     "name": "stdout",
     "output_type": "stream",
     "text": [
      "338198\n"
     ]
    }
   ],
   "source": [
    "# Preprocess data ...\n",
    "\n",
    "LINK_DELIM = '_'\n",
    "link_treshold = 1\n",
    "valid_links = Counter([next(iter(sentence.values())) for sentence in train_file if next(iter(sentence.values())) is not None])\n",
    "valid_links = set([link for link,frequence in valid_links.items() if frequence >= link_treshold])\n",
    "\n",
    "train_file, train_links = process_input_file(train_file, valid_links, LINK_DELIM)\n",
    "test_file, test_links = process_input_file(test_file, valid_links, LINK_DELIM)\n",
    "\n",
    "output = train_links + [\"_TEXT\"]\n",
    "link2idx = {l:i for i,l in enumerate(output)}\n",
    "idx2link = {i:l for i,l in enumerate(output)}\n",
    "default_no_link = len(output) -1\n",
    "\n",
    "train_encoded_labels, train_sentences = encode_labels(train_file, train_links, link2idx, LINK_DELIM, default_no_link)\n",
    "test_encoded_labels, test_sentences = encode_labels(test_file, test_links, link2idx, LINK_DELIM, default_no_link)\n",
    "\n",
    "vocabulary = Counter([word for sentence in train_sentences for word in sentence])\n",
    "vocabulary = ['_PAD','_UNK'] + sorted(vocabulary, key=vocabulary.get, reverse=True)\n",
    "\n",
    "word2idx = {w:i for i,w in enumerate(vocabulary)}\n",
    "idx2word = {i:w for i,w in enumerate(vocabulary)} # probably vocabulary array is enough\n",
    "\n",
    "print(len(train_links))\n"
   ]
  },
  {
   "cell_type": "code",
   "execution_count": 135,
   "metadata": {},
   "outputs": [
    {
     "ename": "IndexError",
     "evalue": "list index out of range",
     "output_type": "error",
     "traceback": [
      "\u001b[0;31m---------------------------------------------------------------------------\u001b[0m",
      "\u001b[0;31mIndexError\u001b[0m                                Traceback (most recent call last)",
      "\u001b[0;32m<ipython-input-135-3b3891cdb7dd>\u001b[0m in \u001b[0;36m<module>\u001b[0;34m\u001b[0m\n\u001b[1;32m     13\u001b[0m         \u001b[0midx\u001b[0m \u001b[0;34m=\u001b[0m \u001b[0mtrain_encoded_labels\u001b[0m\u001b[0;34m[\u001b[0m\u001b[0mi\u001b[0m\u001b[0;34m]\u001b[0m\u001b[0;34m[\u001b[0m\u001b[0mj\u001b[0m\u001b[0;34m]\u001b[0m\u001b[0;34m\u001b[0m\u001b[0;34m\u001b[0m\u001b[0m\n\u001b[1;32m     14\u001b[0m         \u001b[0;32mif\u001b[0m \u001b[0midx2link\u001b[0m\u001b[0;34m[\u001b[0m\u001b[0midx\u001b[0m\u001b[0;34m]\u001b[0m \u001b[0;34m!=\u001b[0m \u001b[0;34m\"_TEXT\"\u001b[0m\u001b[0;34m:\u001b[0m\u001b[0;34m\u001b[0m\u001b[0;34m\u001b[0m\u001b[0m\n\u001b[0;32m---> 15\u001b[0;31m             \u001b[0m_ls\u001b[0m\u001b[0;34m.\u001b[0m\u001b[0mappend\u001b[0m\u001b[0;34m(\u001b[0m\u001b[0;34m\"({}|{})\"\u001b[0m\u001b[0;34m.\u001b[0m\u001b[0mformat\u001b[0m\u001b[0;34m(\u001b[0m\u001b[0msentence\u001b[0m\u001b[0;34m[\u001b[0m\u001b[0mj\u001b[0m\u001b[0;34m]\u001b[0m\u001b[0;34m,\u001b[0m \u001b[0midx2link\u001b[0m\u001b[0;34m[\u001b[0m\u001b[0midx\u001b[0m\u001b[0;34m]\u001b[0m\u001b[0;34m)\u001b[0m\u001b[0;34m)\u001b[0m\u001b[0;34m\u001b[0m\u001b[0;34m\u001b[0m\u001b[0m\n\u001b[0m\u001b[1;32m     16\u001b[0m     \u001b[0;32mif\u001b[0m \u001b[0;34m(\u001b[0m\u001b[0mlen\u001b[0m\u001b[0;34m(\u001b[0m\u001b[0m_ls\u001b[0m\u001b[0;34m)\u001b[0m \u001b[0;34m>\u001b[0m \u001b[0;36m0\u001b[0m\u001b[0;34m)\u001b[0m\u001b[0;34m:\u001b[0m\u001b[0;34m\u001b[0m\u001b[0;34m\u001b[0m\u001b[0m\n\u001b[1;32m     17\u001b[0m         \u001b[0mprint\u001b[0m\u001b[0;34m(\u001b[0m\u001b[0m_ls\u001b[0m\u001b[0;34m)\u001b[0m\u001b[0;34m\u001b[0m\u001b[0;34m\u001b[0m\u001b[0m\n",
      "\u001b[0;31mIndexError\u001b[0m: list index out of range"
     ]
    }
   ],
   "source": [
    "x = max([x for sentence in train_encoded_labels for x in sentence])\n",
    "#print(len([train_sentence for train_sentence in train_sentences for word in train_sentence if \"nuclear\" in word]))\n",
    "#print(x)\n",
    "#print([i for i in range(len(train_sentences)) if len(train_sentences[i]) != len(train_encoded_labels[i])])\n",
    "\n",
    "#for i, sentence in enumerate(train_sentences[11:120]):\n",
    "\n",
    "        \n",
    "for i in range(120):\n",
    "    sentence = train_sentences[i+110]\n",
    "    _ls = []\n",
    "    for j in range(len(train_encoded_labels[i])):\n",
    "        idx = train_encoded_labels[i][j]\n",
    "        if idx2link[idx] != \"_TEXT\":\n",
    "            _ls.append(\"({}|{})\".format(sentence[j], idx2link[idx]))\n",
    "    if (len(_ls) > 0):\n",
    "        print(_ls)\n",
    "    \n",
    "    \n",
    "    \n",
    "    \n",
    "#y = 0\n",
    "#print([_x for _x in [x for x in train_sentences][y]])\n",
    "#print([idx2link[_x] for _x in [x for x in train_encoded_labels][y]])\n",
    "#print(idx2link[x-1])\n",
    "#for sentence in train_encoded_labels[:50]:\n",
    "    #print([idx2link[x] for x in sentence])"
   ]
  },
  {
   "cell_type": "code",
   "execution_count": null,
   "metadata": {},
   "outputs": [],
   "source": [
    "# Encode words as integers ...\n",
    "\n",
    "for i, sentence in enumerate(train_sentences):\n",
    "    train_sentences[i] = [word2idx[word] if word in word2idx else 1 for word in sentence]\n",
    "    \n",
    "for i, sentence in enumerate(test_sentences):\n",
    "    test_sentences[i] = [word2idx[word] if word in word2idx else 0 for word in sentence]"
   ]
  },
  {
   "cell_type": "code",
   "execution_count": null,
   "metadata": {},
   "outputs": [],
   "source": [
    "print([idx2word[x] for x in train_sentences[0]])\n",
    "print([x for x in train_file[0]])"
   ]
  },
  {
   "cell_type": "code",
   "execution_count": 7,
   "metadata": {},
   "outputs": [],
   "source": [
    "train_file = bz2.BZ2File('../input_data/train.json.bz2')\n",
    "train_file = json.load(train_file)\n",
    "#print(len(train_file))\n",
    "\n",
    "link_treshold = 1\n",
    "valid_links = Counter([next(iter(sentence.values())) for sentence in train_file if next(iter(sentence.values())) is not None])\n",
    "valid_links = set([link for link,frequence in valid_links.items() if frequence >= link_treshold])\n",
    "\n",
    "train_links = []\n",
    "for i, line in enumerate(train_file):\n",
    "    sentence, link = next(iter(line.items()))\n",
    "    train_file[i] = sentence.lower().strip()\n",
    "    if link is not None:\n",
    "        train_file[i] = \"\".join([word.title() for word in train_file[i].split(' ')])\n",
    "        train_links.append(link)\n",
    "\n",
    "output = train_links + [\"_TEXT\"]\n",
    "default_no_link = len(output) - 1\n",
    "\n",
    "train_labels = []\n",
    "train_sentences = []\n",
    "link_index = 0  \n",
    "for sentence in nltk.sent_tokenize(\" \".join(train_file)):\n",
    "    train_label = []\n",
    "    train_sentence = []\n",
    "    for word in nltk.word_tokenize(sentence):\n",
    "        if word[0].isalpha() and word[0].isupper():\n",
    "            #sub_links = filter(None, word.split(LINK_DELIM))\n",
    "            sub_links = re.findall('[A-Z][^A-Z]*', word)\n",
    "            #try:\n",
    "            for sub_link in sub_links:\n",
    "                train_label.append(link_index)\n",
    "                train_sentence.append(sub_link)\n",
    "            link_index += 1\n",
    "            #except:\n",
    "             #   print(word)\n",
    "        else:\n",
    "            train_label.append(default_no_link)\n",
    "            train_sentence.append(word)\n",
    "    train_labels.append(train_label)\n",
    "    train_sentences.append(train_sentence)"
   ]
  },
  {
   "cell_type": "code",
   "execution_count": 16,
   "metadata": {},
   "outputs": [
    {
     "name": "stdout",
     "output_type": "stream",
     "text": [
      "['in', '1933', ',', 'Bengt', 'Strömgren', 'introduced', 'the', 'term', 'hertzsprung–russell', 'diagram', 'to', 'denote', 'a', 'luminosity-spectral', 'class', 'diagram', '.']\n",
      "[338198, 338198, 338198, 122, 122, 338198, 338198, 338198, 338198, 338198, 338198, 338198, 338198, 338198, 338198, 338198, 338198]\n"
     ]
    }
   ],
   "source": [
    "y = 104\n",
    "print(train_sentences[y])\n",
    "print(train_labels[y])"
   ]
  }
 ],
 "metadata": {
  "kernelspec": {
   "display_name": "Python 3",
   "language": "python",
   "name": "python3"
  },
  "language_info": {
   "codemirror_mode": {
    "name": "ipython",
    "version": 3
   },
   "file_extension": ".py",
   "mimetype": "text/x-python",
   "name": "python",
   "nbconvert_exporter": "python",
   "pygments_lexer": "ipython3",
   "version": "3.7.5"
  }
 },
 "nbformat": 4,
 "nbformat_minor": 4
}
