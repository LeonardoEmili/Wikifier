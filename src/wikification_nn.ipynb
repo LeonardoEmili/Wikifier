{
 "cells": [
  {
   "cell_type": "code",
   "execution_count": 1,
   "metadata": {},
   "outputs": [
    {
     "name": "stderr",
     "output_type": "stream",
     "text": [
      "[nltk_data] Downloading package punkt to /home/leo/nltk_data...\n",
      "[nltk_data]   Package punkt is already up-to-date!\n"
     ]
    },
    {
     "data": {
      "text/plain": [
       "True"
      ]
     },
     "execution_count": 1,
     "metadata": {},
     "output_type": "execute_result"
    }
   ],
   "source": [
    "import bz2\n",
    "import nltk\n",
    "import numpy as np\n",
    "import re\n",
    "from collections import Counter\n",
    "nltk.download(\"punkt\")"
   ]
  },
  {
   "cell_type": "code",
   "execution_count": 26,
   "metadata": {},
   "outputs": [],
   "source": [
    "def collect_links(input_file, valid_links, INNER_SEP, OUTER_SEP):\n",
    "    links = []\n",
    "    for sentence in input_file:\n",
    "        for word in sentence:\n",
    "            if word[0] == OUTER_SEP and word[-1] == OUTER_SEP:\n",
    "                _link = list(filter(None, word.split(OUTER_SEP)))\n",
    "                if len(_link) == 2 and _link[1] in valid_links:\n",
    "                    links.append(_link[1])\n",
    "    return input_file, links\n",
    "\n",
    "def encode_labels(text_corpus, link2idx, INNER_SEP, OUTER_SEP, default_no_link):\n",
    "    labels = []\n",
    "    sentences = []\n",
    "    for sentence in text_corpus:\n",
    "        _label = []\n",
    "        _sentence = []\n",
    "        for word in sentence:\n",
    "            if word[0] == OUTER_SEP and word[-1] == OUTER_SEP:\n",
    "                _split = list(filter(None, word.split(OUTER_SEP)))\n",
    "                if len(_split) != 2:\n",
    "                    _label.append(default_no_link)\n",
    "                    _sentence.append(word.replace(OUTER_SEP, ''))\n",
    "                else:\n",
    "                    text, link = _split\n",
    "                    sub_links = filter(None, text.split(INNER_SEP))\n",
    "                    for sub_link in sub_links:\n",
    "                        _label.append(link2idx.get(link, default_no_link))\n",
    "                        _sentence.append(sub_link)\n",
    "            else:\n",
    "                _label.append(default_no_link)\n",
    "                _sentence.append(word)\n",
    "        labels.append(_label)\n",
    "        sentences.append(_sentence)\n",
    "    return labels, sentences\n",
    "\n",
    "# This function takes a batch of sentences and pads/trims every sentence to seq_len\n",
    "def pad_input(sentences, seq_len, pad_token):\n",
    "    features = np.ones((len(sentences), seq_len)) * pad_token\n",
    "    for ii, sentence in enumerate(sentences):\n",
    "        features[ii, :len(sentence)] = np.array(sentence)[:seq_len]\n",
    "    return features"
   ]
  },
  {
   "cell_type": "code",
   "execution_count": 27,
   "metadata": {},
   "outputs": [],
   "source": [
    "# Preprocess data ...\n",
    "\n",
    "INNER_SEP = '_'\n",
    "OUTER_SEP = '|'\n",
    "\n",
    "train_file = bz2.BZ2File('../input_data/train.txt.bz2').read().decode('utf-8')\n",
    "test_file = bz2.BZ2File('../input_data/test.txt.bz2').read().decode('utf-8')\n",
    "\n",
    "train_file = [[word.lower() for word in nltk.word_tokenize(sentence)] for sentence in nltk.sent_tokenize(train_file)]\n",
    "test_file = [[word.lower() for word in  nltk.word_tokenize(sentence)] for sentence in nltk.sent_tokenize(test_file)]\n",
    "\n",
    "link_treshold = 1\n",
    "valid_links = Counter([word.split(OUTER_SEP)[-2] for sentence in train_file for word in sentence if word[0] == OUTER_SEP and word[-1] == OUTER_SEP])\n",
    "valid_links = set([link for link,frequence in valid_links.items() if frequence >= link_treshold])\n",
    "\n",
    "train_file, train_links = collect_links(train_file, valid_links, INNER_SEP, OUTER_SEP)\n",
    "test_file, test_links = collect_links(test_file, valid_links, INNER_SEP, OUTER_SEP)\n",
    "\n",
    "output = train_links + test_links + [\"_TEXT\"]\n",
    "_NO_LINK = len(output) -1\n",
    "link2idx = {l:i for i,l in enumerate(output)}\n",
    "idx2link = {i:l for i,l in enumerate(output)}\n",
    "\n",
    "train_labels, train_file = encode_labels(train_file, link2idx, INNER_SEP, OUTER_SEP, _NO_LINK)\n",
    "test_labels, test_file = encode_labels(test_file, link2idx, INNER_SEP, OUTER_SEP, _NO_LINK)\n",
    "\n",
    "PAD_TOKEN = \"_PAD\"\n",
    "UNKOWN_TOKEN = \"_UNK\"\n",
    "vocabulary = Counter([word for sentence in train_file for word in sentence])\n",
    "vocabulary = [PAD_TOKEN, UNKOWN_TOKEN] + sorted(vocabulary, key=vocabulary.get, reverse=True)\n",
    "\n",
    "word2idx = {w:i for i,w in enumerate(vocabulary)}\n",
    "idx2word = {i:w for i,w in enumerate(vocabulary)} # probably vocabulary array is enough"
   ]
  },
  {
   "cell_type": "code",
   "execution_count": 9,
   "metadata": {},
   "outputs": [],
   "source": [
    "# Encode words as integers ...\n",
    "\n",
    "train_sentences = [[word2idx[word] if word in word2idx else 1 for word in sentence] for sentence in train_file]\n",
    "test_sentences = [[word2idx[word] if word in word2idx else 1 for word in sentence] for sentence in test_file]\n",
    "\n",
    "#train_sentences.sort(key=len, reverse=True)\n",
    "#test_sentences.sort(key=len, reverse=True)\n",
    "\n",
    "batch_size = 32\n",
    "\n",
    "\n",
    "\n",
    "#train_lengths = [len(sentence) for sentence in train_sentences]\n",
    "#test_lengths = [len(sentence) for sentence in test_sentences]"
   ]
  },
  {
   "cell_type": "code",
   "execution_count": 18,
   "metadata": {},
   "outputs": [
    {
     "name": "stdout",
     "output_type": "stream",
     "text": [
      "3085\n",
      "0\n"
     ]
    }
   ],
   "source": [
    "print(train_lengths[10])\n",
    "\n",
    "print(word2idx[\"_PAD\"])"
   ]
  }
 ],
 "metadata": {
  "kernelspec": {
   "display_name": "Python 3",
   "language": "python",
   "name": "python3"
  },
  "language_info": {
   "codemirror_mode": {
    "name": "ipython",
    "version": 3
   },
   "file_extension": ".py",
   "mimetype": "text/x-python",
   "name": "python",
   "nbconvert_exporter": "python",
   "pygments_lexer": "ipython3",
   "version": "3.7.5"
  }
 },
 "nbformat": 4,
 "nbformat_minor": 4
}
